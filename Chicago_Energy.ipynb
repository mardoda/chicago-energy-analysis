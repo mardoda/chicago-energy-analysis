{
  "nbformat": 4,
  "nbformat_minor": 0,
  "metadata": {
    "kernelspec": {
      "display_name": "Python 3",
      "language": "python",
      "name": "python3"
    },
    "language_info": {
      "codemirror_mode": {
        "name": "ipython",
        "version": 3
      },
      "file_extension": ".py",
      "mimetype": "text/x-python",
      "name": "python",
      "nbconvert_exporter": "python",
      "pygments_lexer": "ipython3",
      "version": "3.7.3"
    },
    "colab": {
      "provenance": []
    }
  },
  "cells": [
    {
      "cell_type": "code",
      "metadata": {
        "id": "gehBDqC-smrj"
      },
      "source": [
        "# installing java, findspark, spark (initial setup)\n",
        "%%bash\n",
        "apt-get install openjdk-8-jdk-headless -qq > /dev/null\n",
        "[ ! -e \"$(basename spark-2.4.4-bin-hadoop2.7.tgz)\" ] && wget  http://apache.osuosl.org/spark/spark-2.4.4/spark-2.4.4-bin-hadoop2.7.tgz\n",
        "tar xf spark-2.4.4-bin-hadoop2.7.tgz\n",
        "pip install -q findspark"
      ],
      "execution_count": null,
      "outputs": []
    },
    {
      "cell_type": "markdown",
      "metadata": {
        "id": "FAsEXWKfs00G"
      },
      "source": [
        "## [**Start SPARK by setting the location it has to get installed**]"
      ]
    },
    {
      "cell_type": "code",
      "metadata": {
        "id": "Sh0oT_rDsz4Z"
      },
      "source": [
        "import os\n",
        "os.environ[\"JAVA_HOME\"] = \"/usr/lib/jvm/java-8-openjdk-amd64\"\n",
        "os.environ[\"SPARK_HOME\"] = \"/content/spark-2.4.4-bin-hadoop2.7\""
      ],
      "execution_count": null,
      "outputs": []
    },
    {
      "cell_type": "code",
      "metadata": {
        "id": "mrKx3FBDs971"
      },
      "source": [
        "import findspark\n",
        "findspark.init()\n",
        "from pyspark.sql import SparkSession\n",
        "\n",
        "# get a spark session.\n",
        "spark = SparkSession.builder.master(\"local[*]\").getOrCreate()"
      ],
      "execution_count": null,
      "outputs": []
    },
    {
      "cell_type": "markdown",
      "metadata": {
        "id": "Vgvkf4AXpGXN"
      },
      "source": [
        "**Import Data from CSV and create DFs**"
      ]
    },
    {
      "cell_type": "code",
      "metadata": {
        "id": "63QEPb0jXcDK",
        "outputId": "ab4428f7-5cdf-43c0-a142-f9d6cc6ddfbf",
        "colab": {
          "base_uri": "https://localhost:8080/",
          "height": 54
        }
      },
      "source": [
        "! [ ! -e \"$(basename Energy_Usage_2010.csv)\" ] && wget  https://storage.googleapis.com/nishu_wsu/Energy_Usage_2010.csv\n",
        "\n",
        "df = spark.read.csv('Jobsites_Dataset',header= True, inferSchema = True)\n",
        "\n",
        "\n",
        "print(df.columns)\n"
      ],
      "execution_count": null,
      "outputs": [
        {
          "output_type": "stream",
          "text": [
            "['COMMUNITY AREA NAME', 'CENSUS BLOCK', 'BUILDING TYPE', 'BUILDING_SUBTYPE', 'KWH JANUARY 2010', 'KWH FEBRUARY 2010', 'KWH MARCH 2010', 'KWH APRIL 2010', 'KWH MAY 2010', 'KWH JUNE 2010', 'KWH JULY 2010', 'KWH AUGUST 2010', 'KWH SEPTEMBER 2010', 'KWH OCTOBER 2010', 'KWH NOVEMBER 2010', 'KWH DECEMBER 2010', 'TOTAL KWH', 'ELECTRICITY ACCOUNTS', 'ZERO KWH ACCOUNTS', 'THERM JANUARY 2010', 'THERM FEBRUARY 2010', 'THERM MARCH 2010', 'TERM APRIL 2010', 'THERM MAY 2010', 'THERM JUNE 2010', 'THERM JULY 2010', 'THERM AUGUST 2010', 'THERM SEPTEMBER 2010', 'THERM OCTOBER 2010', 'THERM NOVEMBER 2010', 'THERM DECEMBER 2010', 'TOTAL THERMS', 'GAS ACCOUNTS', 'KWH TOTAL SQFT', 'THERMS TOTAL SQFT', 'KWH MEAN 2010', 'KWH STANDARD DEVIATION 2010', 'KWH MINIMUM 2010', 'KWH 1ST QUARTILE 2010', 'KWH 2ND QUARTILE 2010', 'KWH 3RD QUARTILE 2010', 'KWH MAXIMUM 2010', 'KWH SQFT MEAN 2010', 'KWH SQFT STANDARD DEVIATION 2010', 'KWH SQFT MINIMUM 2010', 'KWH SQFT 1ST QUARTILE 2010', 'KWH SQFT 2ND QUARTILE 2010', 'KWH SQFT 3RD QUARTILE 2010', 'KWH SQFT MAXIMUM 2010', 'THERM MEAN 2010', 'THERM STANDARD DEVIATION 2010', 'THERM MINIMUM 2010', 'THERM 1ST QUARTILE 2010', 'THERM 2ND QUARTILE 2010', 'THERM 3RD QUARTILE 2010', 'THERM MAXIMUM 2010', 'THERMS SQFT MEAN 2010', 'THERMS SQFT STANDARD DEVIATION 2010', 'THERMS SQFT MINIMUM 2010', 'THERMS SQFT 1ST QUARTILE 2010', 'THERMS SQFT 2ND QUARTILE 2010', 'THERMS SQFT 3RD QUARTILE 2010', 'THERMS SQFT MAXIMUM 2010', 'TOTAL POPULATION', 'TOTAL UNITS', 'AVERAGE STORIES', 'AVERAGE BUILDING AGE', 'AVERAGE HOUSESIZE', 'OCCUPIED UNITS', 'OCCUPIED UNITS PERCENTAGE', 'RENTER-OCCUPIED HOUSING UNITS', 'RENTER-OCCUPIED HOUSING PERCENTAGE', 'OCCUPIED HOUSING UNITS']\n"
          ],
          "name": "stdout"
        }
      ]
    },
    {
      "cell_type": "markdown",
      "metadata": {
        "id": "a4t5GdBtAiXK"
      },
      "source": [
        "**EDA on my dataset**"
      ]
    },
    {
      "cell_type": "code",
      "metadata": {
        "id": "ewEUpViaXuf6",
        "outputId": "2abc949a-556a-4c3b-fa09-0fff6207f6c4",
        "colab": {
          "base_uri": "https://localhost:8080/",
          "height": 34
        }
      },
      "source": [
        "type(df)"
      ],
      "execution_count": null,
      "outputs": [
        {
          "output_type": "execute_result",
          "data": {
            "text/plain": [
              "pyspark.sql.dataframe.DataFrame"
            ]
          },
          "metadata": {
            "tags": []
          },
          "execution_count": 141
        }
      ]
    },
    {
      "cell_type": "code",
      "metadata": {
        "id": "jYJYcRFYcOyN",
        "outputId": "1e37d387-4bcb-4e32-cd84-c84662f8ba68",
        "colab": {
          "base_uri": "https://localhost:8080/",
          "height": 207
        }
      },
      "source": [
        "df.describe().show()"
      ],
      "execution_count": null,
      "outputs": [
        {
          "output_type": "stream",
          "text": [
            "+-------+-------------------+--------------------+-------------+----------------+------------------+-----------------+------------------+-----------------+------------------+------------------+------------------+-----------------+------------------+-----------------+------------------+-----------------+------------------+--------------------+------------------+------------------+-------------------+------------------+------------------+------------------+------------------+-----------------+------------------+--------------------+------------------+-------------------+-------------------+------------------+------------------+-----------------+------------------+------------------+---------------------------+------------------+---------------------+---------------------+---------------------+-----------------+------------------+--------------------------------+---------------------+--------------------------+--------------------------+--------------------------+---------------------+-----------------+-----------------------------+------------------+-----------------------+-----------------------+-----------------------+------------------+---------------------+-----------------------------------+------------------------+-----------------------------+-----------------------------+-----------------------------+------------------------+-----------------+------------------+------------------+--------------------+-----------------+------------------+-------------------------+-----------------------------+----------------------------------+----------------------+\n",
            "|summary|COMMUNITY AREA NAME|        CENSUS BLOCK|BUILDING TYPE|BUILDING_SUBTYPE|  KWH JANUARY 2010|KWH FEBRUARY 2010|    KWH MARCH 2010|   KWH APRIL 2010|      KWH MAY 2010|     KWH JUNE 2010|     KWH JULY 2010|  KWH AUGUST 2010|KWH SEPTEMBER 2010| KWH OCTOBER 2010| KWH NOVEMBER 2010|KWH DECEMBER 2010|         TOTAL KWH|ELECTRICITY ACCOUNTS| ZERO KWH ACCOUNTS|THERM JANUARY 2010|THERM FEBRUARY 2010|  THERM MARCH 2010|   TERM APRIL 2010|    THERM MAY 2010|   THERM JUNE 2010|  THERM JULY 2010| THERM AUGUST 2010|THERM SEPTEMBER 2010|THERM OCTOBER 2010|THERM NOVEMBER 2010|THERM DECEMBER 2010|      TOTAL THERMS|      GAS ACCOUNTS|   KWH TOTAL SQFT| THERMS TOTAL SQFT|     KWH MEAN 2010|KWH STANDARD DEVIATION 2010|  KWH MINIMUM 2010|KWH 1ST QUARTILE 2010|KWH 2ND QUARTILE 2010|KWH 3RD QUARTILE 2010| KWH MAXIMUM 2010|KWH SQFT MEAN 2010|KWH SQFT STANDARD DEVIATION 2010|KWH SQFT MINIMUM 2010|KWH SQFT 1ST QUARTILE 2010|KWH SQFT 2ND QUARTILE 2010|KWH SQFT 3RD QUARTILE 2010|KWH SQFT MAXIMUM 2010|  THERM MEAN 2010|THERM STANDARD DEVIATION 2010|THERM MINIMUM 2010|THERM 1ST QUARTILE 2010|THERM 2ND QUARTILE 2010|THERM 3RD QUARTILE 2010|THERM MAXIMUM 2010|THERMS SQFT MEAN 2010|THERMS SQFT STANDARD DEVIATION 2010|THERMS SQFT MINIMUM 2010|THERMS SQFT 1ST QUARTILE 2010|THERMS SQFT 2ND QUARTILE 2010|THERMS SQFT 3RD QUARTILE 2010|THERMS SQFT MAXIMUM 2010| TOTAL POPULATION|       TOTAL UNITS|   AVERAGE STORIES|AVERAGE BUILDING AGE|AVERAGE HOUSESIZE|    OCCUPIED UNITS|OCCUPIED UNITS PERCENTAGE|RENTER-OCCUPIED HOUSING UNITS|RENTER-OCCUPIED HOUSING PERCENTAGE|OCCUPIED HOUSING UNITS|\n",
            "+-------+-------------------+--------------------+-------------+----------------+------------------+-----------------+------------------+-----------------+------------------+------------------+------------------+-----------------+------------------+-----------------+------------------+-----------------+------------------+--------------------+------------------+------------------+-------------------+------------------+------------------+------------------+------------------+-----------------+------------------+--------------------+------------------+-------------------+-------------------+------------------+------------------+-----------------+------------------+------------------+---------------------------+------------------+---------------------+---------------------+---------------------+-----------------+------------------+--------------------------------+---------------------+--------------------------+--------------------------+--------------------------+---------------------+-----------------+-----------------------------+------------------+-----------------------+-----------------------+-----------------------+------------------+---------------------+-----------------------------------+------------------------+-----------------------------+-----------------------------+-----------------------------+------------------------+-----------------+------------------+------------------+--------------------+-----------------+------------------+-------------------------+-----------------------------+----------------------------------+----------------------+\n",
            "|  count|              67051|               66974|        66974|           66974|             66180|            66180|             66180|            66180|             66180|             66180|             66180|            66180|             66180|            66180|             66180|            66180|             66180|               66180|             67051|             64821|              62819|             65569|             65476|             65194|             65284|            65231|             65143|               64769|             65329|              65492|              65507|             65755|             65755|            65901|             65378|             66180|                      57095|             66180|                66180|                66180|                66180|            66180|             65901|                           51666|                65901|                     65901|                     65901|                     65901|                65901|            65755|                        56821|             65755|                  65755|                  65755|                  65755|             65755|                65378|                              51367|                   65378|                        65378|                        65378|                        65378|                   65378|            67037|             67037|             67051|               67051|            67037|             67037|                    64606|                        67037|                             64433|                 67037|\n",
            "|   mean|               null|1.703140447194470...|         null|            null| 422.3416870898885|499.3204854368932|   520.52099609375|534.9991114621384| 533.8998455200824| 527.8898257448004|  529.538517618469|557.3150897407489|  593.061733615222|605.6108997010057| 628.5877443443883|625.3043354249858| 504.9039548022599|  16.615952026194286| 5.016124220637809| 586.1716299447584|   565.850200825932| 547.2207491769731|457.36296315342884| 406.5522955044383| 292.9207597347167|238.4427112557513| 221.7655266101966|   226.4303414052556| 304.7364708603145| 437.43937948023705|  548.3150665666604|444.45790934320075|14.016792658618225|791.5017421602787| 794.6232876712329| 539.1107407407408|          520.5627003320914| 524.8153254673207|    542.2252897068848|    561.6126482213439|    508.6111111111111|508.7354497354497| 905.2500408302137|               382.0090245233136|    798.7763249557902|         860.5458011921459|         898.3122479303757|         889.9852479598243|    855.8691232528589|696.8072193670533|            463.5066228379478| 540.3213674186668|      628.4895918035453|      624.6977722772277|      554.3804394657475| 519.4020421186982|     907.072318454364|                   381.260708678149|       799.3814157399487|            862.5926426950602|            898.2317610062893|            891.2932002495321|       857.7442748091603| 82.9105149091996| 37.88934530300088|1.8875924296430926|   71.59300636828563|3.123407490301428|33.501919027493614|       0.8803647370213546|            19.88433972406379|                0.5116792652833128|    33.501919027493614|\n",
            "| stddev|               null|2.7763915283621373E9|         null|            null|332.46512912365245| 313.549473086435|302.59886032361595|296.7990575923014|298.75171827043914|311.49997028498206|318.11611798579503|298.6070609495591| 272.0300001285322|258.7914202311284|257.43988121896155|269.6492709467988|256.77560692911646|  61.106056843541374|14.560107892468698|249.77363857819637| 255.18860053884725|251.44871968398482|265.08626745925034|272.15406715046606|228.78125488625764|197.2523897215863|187.49000614965624|  188.97718784774912| 230.5709193604127| 271.67005875825714| 253.68801618510264| 306.4159396765244|15.518352491345732|159.2250216342795|152.91736377241781|268.96532423241615|         286.87226858560996|264.64870711815826|    264.2447786881528|   272.98726669186533|   260.20896539850213|260.1607192749379| 96.03471730777879|              249.61038111095917|   137.95557760490328|        113.72609020111653|         94.55410967668416|        111.76527641508393|   130.74780767113438|303.7180979032984|            227.0738720923064| 303.3754530700461|      318.7985090105855|      325.9991176273821|      332.3565820926735|336.99006575080034|     94.0269149104588|                 249.46010632981827|       135.4827420112457|           109.96409703533541|            93.33031956809678|           108.88358440892063|      127.84829584558379|82.07960471284251|54.093660755479505| 1.957215234132569|  34.168384014759994|15.31502515267735|49.608981800876336|       0.1309366429495468|            38.15872832281637|                0.2884310884997897|    49.608981800876336|\n",
            "|    min|        Albany Park|     170310101001000|   Commercial|      Commercial|                 0|                0|                 0|                0|                 0|                 0|                 0|                0|                 0|                0|                 0|                0|         1,002,776|                  10|                 0|                 1|                  1|                 1|                 1|                 1|                 1|                1|                 1|                   1|                 1|                  1|                  1|             1,000|                10|            1,000|             1,000|         1,003,699|                       0.00|             1,000|                1,000|            1,005,010|            1,000,169|        1,000,169|             1,000|                            0.00|                1,000|                     1,000|                     1,000|                     1,000|                1,000|            1,000|                         0.00|             1,000|                  1,000|                  1,000|                  1,000|             1,000|                1,000|                               0.00|                   1,000|                        1,000|                        1,000|                        1,000|                   1,000|                0|                 0|               1.0|                 0.0|                0|                 0|                      0.0|                            0|                               0.0|                     0|\n",
            "|    max|           Woodlawn|     170319801001006|  Residential|   Single Family|               999|              999|               999|              999|               999|               999|               999|              999|               999|              999|               999|              999|           998,728|         Less than 4|                99|               999|                999|               999|               999|               999|               999|              999|               999|                 999|               999|                999|                999|               998|       Less than 4|              997|               997|         996,488.6|                999.8489886|               999|                  999|                  998|              999,777|          999,777|            999.91|                    999.92016348|                  999|                     999.5|                     999.5|                     999.5|                  999|           999.81|                  999.8489886|               999|                  999.5|                  999.5|                  999.5|               999|               999.94|                       999.92016348|                     999|                        999.5|                        999.5|                        999.5|                     999|               99|               993|             110.0|               158.0|           925.35|                99|                      1.0|                          993|                               1.0|                    99|\n",
            "+-------+-------------------+--------------------+-------------+----------------+------------------+-----------------+------------------+-----------------+------------------+------------------+------------------+-----------------+------------------+-----------------+------------------+-----------------+------------------+--------------------+------------------+------------------+-------------------+------------------+------------------+------------------+------------------+-----------------+------------------+--------------------+------------------+-------------------+-------------------+------------------+------------------+-----------------+------------------+------------------+---------------------------+------------------+---------------------+---------------------+---------------------+-----------------+------------------+--------------------------------+---------------------+--------------------------+--------------------------+--------------------------+---------------------+-----------------+-----------------------------+------------------+-----------------------+-----------------------+-----------------------+------------------+---------------------+-----------------------------------+------------------------+-----------------------------+-----------------------------+-----------------------------+------------------------+-----------------+------------------+------------------+--------------------+-----------------+------------------+-------------------------+-----------------------------+----------------------------------+----------------------+\n",
            "\n"
          ],
          "name": "stdout"
        }
      ]
    },
    {
      "cell_type": "code",
      "metadata": {
        "id": "yCdrj9J4X1Jf",
        "outputId": "abf074ba-9a54-4de3-98f6-a48c55c6e3ab",
        "colab": {
          "base_uri": "https://localhost:8080/",
          "height": 1000
        }
      },
      "source": [
        "df.dtypes"
      ],
      "execution_count": null,
      "outputs": [
        {
          "output_type": "execute_result",
          "data": {
            "text/plain": [
              "[('COMMUNITY AREA NAME', 'string'),\n",
              " ('CENSUS BLOCK', 'bigint'),\n",
              " ('BUILDING TYPE', 'string'),\n",
              " ('BUILDING_SUBTYPE', 'string'),\n",
              " ('KWH JANUARY 2010', 'string'),\n",
              " ('KWH FEBRUARY 2010', 'string'),\n",
              " ('KWH MARCH 2010', 'string'),\n",
              " ('KWH APRIL 2010', 'string'),\n",
              " ('KWH MAY 2010', 'string'),\n",
              " ('KWH JUNE 2010', 'string'),\n",
              " ('KWH JULY 2010', 'string'),\n",
              " ('KWH AUGUST 2010', 'string'),\n",
              " ('KWH SEPTEMBER 2010', 'string'),\n",
              " ('KWH OCTOBER 2010', 'string'),\n",
              " ('KWH NOVEMBER 2010', 'string'),\n",
              " ('KWH DECEMBER 2010', 'string'),\n",
              " ('TOTAL KWH', 'string'),\n",
              " ('ELECTRICITY ACCOUNTS', 'string'),\n",
              " ('ZERO KWH ACCOUNTS', 'string'),\n",
              " ('THERM JANUARY 2010', 'string'),\n",
              " ('THERM FEBRUARY 2010', 'string'),\n",
              " ('THERM MARCH 2010', 'string'),\n",
              " ('TERM APRIL 2010', 'string'),\n",
              " ('THERM MAY 2010', 'string'),\n",
              " ('THERM JUNE 2010', 'string'),\n",
              " ('THERM JULY 2010', 'string'),\n",
              " ('THERM AUGUST 2010', 'string'),\n",
              " ('THERM SEPTEMBER 2010', 'string'),\n",
              " ('THERM OCTOBER 2010', 'string'),\n",
              " ('THERM NOVEMBER 2010', 'string'),\n",
              " ('THERM DECEMBER 2010', 'string'),\n",
              " ('TOTAL THERMS', 'string'),\n",
              " ('GAS ACCOUNTS', 'string'),\n",
              " ('KWH TOTAL SQFT', 'string'),\n",
              " ('THERMS TOTAL SQFT', 'string'),\n",
              " ('KWH MEAN 2010', 'string'),\n",
              " ('KWH STANDARD DEVIATION 2010', 'string'),\n",
              " ('KWH MINIMUM 2010', 'string'),\n",
              " ('KWH 1ST QUARTILE 2010', 'string'),\n",
              " ('KWH 2ND QUARTILE 2010', 'string'),\n",
              " ('KWH 3RD QUARTILE 2010', 'string'),\n",
              " ('KWH MAXIMUM 2010', 'string'),\n",
              " ('KWH SQFT MEAN 2010', 'string'),\n",
              " ('KWH SQFT STANDARD DEVIATION 2010', 'string'),\n",
              " ('KWH SQFT MINIMUM 2010', 'string'),\n",
              " ('KWH SQFT 1ST QUARTILE 2010', 'string'),\n",
              " ('KWH SQFT 2ND QUARTILE 2010', 'string'),\n",
              " ('KWH SQFT 3RD QUARTILE 2010', 'string'),\n",
              " ('KWH SQFT MAXIMUM 2010', 'string'),\n",
              " ('THERM MEAN 2010', 'string'),\n",
              " ('THERM STANDARD DEVIATION 2010', 'string'),\n",
              " ('THERM MINIMUM 2010', 'string'),\n",
              " ('THERM 1ST QUARTILE 2010', 'string'),\n",
              " ('THERM 2ND QUARTILE 2010', 'string'),\n",
              " ('THERM 3RD QUARTILE 2010', 'string'),\n",
              " ('THERM MAXIMUM 2010', 'string'),\n",
              " ('THERMS SQFT MEAN 2010', 'string'),\n",
              " ('THERMS SQFT STANDARD DEVIATION 2010', 'string'),\n",
              " ('THERMS SQFT MINIMUM 2010', 'string'),\n",
              " ('THERMS SQFT 1ST QUARTILE 2010', 'string'),\n",
              " ('THERMS SQFT 2ND QUARTILE 2010', 'string'),\n",
              " ('THERMS SQFT 3RD QUARTILE 2010', 'string'),\n",
              " ('THERMS SQFT MAXIMUM 2010', 'string'),\n",
              " ('TOTAL POPULATION', 'string'),\n",
              " ('TOTAL UNITS', 'string'),\n",
              " ('AVERAGE STORIES', 'double'),\n",
              " ('AVERAGE BUILDING AGE', 'double'),\n",
              " ('AVERAGE HOUSESIZE', 'string'),\n",
              " ('OCCUPIED UNITS', 'string'),\n",
              " ('OCCUPIED UNITS PERCENTAGE', 'double'),\n",
              " ('RENTER-OCCUPIED HOUSING UNITS', 'string'),\n",
              " ('RENTER-OCCUPIED HOUSING PERCENTAGE', 'double'),\n",
              " ('OCCUPIED HOUSING UNITS', 'string')]"
            ]
          },
          "metadata": {
            "tags": []
          },
          "execution_count": 143
        }
      ]
    },
    {
      "cell_type": "markdown",
      "metadata": {
        "id": "KpvUMo92BAku"
      },
      "source": [
        "**Print schema of the dataframes**"
      ]
    },
    {
      "cell_type": "code",
      "metadata": {
        "id": "fQ3sOD53Zafa",
        "outputId": "7a06c610-9846-4bd0-f6d2-89bb7fd22380",
        "colab": {
          "base_uri": "https://localhost:8080/",
          "height": 1000
        }
      },
      "source": [
        "df.printSchema()"
      ],
      "execution_count": null,
      "outputs": [
        {
          "output_type": "stream",
          "text": [
            "root\n",
            " |-- COMMUNITY AREA NAME: string (nullable = true)\n",
            " |-- CENSUS BLOCK: long (nullable = true)\n",
            " |-- BUILDING TYPE: string (nullable = true)\n",
            " |-- BUILDING_SUBTYPE: string (nullable = true)\n",
            " |-- KWH JANUARY 2010: string (nullable = true)\n",
            " |-- KWH FEBRUARY 2010: string (nullable = true)\n",
            " |-- KWH MARCH 2010: string (nullable = true)\n",
            " |-- KWH APRIL 2010: string (nullable = true)\n",
            " |-- KWH MAY 2010: string (nullable = true)\n",
            " |-- KWH JUNE 2010: string (nullable = true)\n",
            " |-- KWH JULY 2010: string (nullable = true)\n",
            " |-- KWH AUGUST 2010: string (nullable = true)\n",
            " |-- KWH SEPTEMBER 2010: string (nullable = true)\n",
            " |-- KWH OCTOBER 2010: string (nullable = true)\n",
            " |-- KWH NOVEMBER 2010: string (nullable = true)\n",
            " |-- KWH DECEMBER 2010: string (nullable = true)\n",
            " |-- TOTAL KWH: string (nullable = true)\n",
            " |-- ELECTRICITY ACCOUNTS: string (nullable = true)\n",
            " |-- ZERO KWH ACCOUNTS: string (nullable = true)\n",
            " |-- THERM JANUARY 2010: string (nullable = true)\n",
            " |-- THERM FEBRUARY 2010: string (nullable = true)\n",
            " |-- THERM MARCH 2010: string (nullable = true)\n",
            " |-- TERM APRIL 2010: string (nullable = true)\n",
            " |-- THERM MAY 2010: string (nullable = true)\n",
            " |-- THERM JUNE 2010: string (nullable = true)\n",
            " |-- THERM JULY 2010: string (nullable = true)\n",
            " |-- THERM AUGUST 2010: string (nullable = true)\n",
            " |-- THERM SEPTEMBER 2010: string (nullable = true)\n",
            " |-- THERM OCTOBER 2010: string (nullable = true)\n",
            " |-- THERM NOVEMBER 2010: string (nullable = true)\n",
            " |-- THERM DECEMBER 2010: string (nullable = true)\n",
            " |-- TOTAL THERMS: string (nullable = true)\n",
            " |-- GAS ACCOUNTS: string (nullable = true)\n",
            " |-- KWH TOTAL SQFT: string (nullable = true)\n",
            " |-- THERMS TOTAL SQFT: string (nullable = true)\n",
            " |-- KWH MEAN 2010: string (nullable = true)\n",
            " |-- KWH STANDARD DEVIATION 2010: string (nullable = true)\n",
            " |-- KWH MINIMUM 2010: string (nullable = true)\n",
            " |-- KWH 1ST QUARTILE 2010: string (nullable = true)\n",
            " |-- KWH 2ND QUARTILE 2010: string (nullable = true)\n",
            " |-- KWH 3RD QUARTILE 2010: string (nullable = true)\n",
            " |-- KWH MAXIMUM 2010: string (nullable = true)\n",
            " |-- KWH SQFT MEAN 2010: string (nullable = true)\n",
            " |-- KWH SQFT STANDARD DEVIATION 2010: string (nullable = true)\n",
            " |-- KWH SQFT MINIMUM 2010: string (nullable = true)\n",
            " |-- KWH SQFT 1ST QUARTILE 2010: string (nullable = true)\n",
            " |-- KWH SQFT 2ND QUARTILE 2010: string (nullable = true)\n",
            " |-- KWH SQFT 3RD QUARTILE 2010: string (nullable = true)\n",
            " |-- KWH SQFT MAXIMUM 2010: string (nullable = true)\n",
            " |-- THERM MEAN 2010: string (nullable = true)\n",
            " |-- THERM STANDARD DEVIATION 2010: string (nullable = true)\n",
            " |-- THERM MINIMUM 2010: string (nullable = true)\n",
            " |-- THERM 1ST QUARTILE 2010: string (nullable = true)\n",
            " |-- THERM 2ND QUARTILE 2010: string (nullable = true)\n",
            " |-- THERM 3RD QUARTILE 2010: string (nullable = true)\n",
            " |-- THERM MAXIMUM 2010: string (nullable = true)\n",
            " |-- THERMS SQFT MEAN 2010: string (nullable = true)\n",
            " |-- THERMS SQFT STANDARD DEVIATION 2010: string (nullable = true)\n",
            " |-- THERMS SQFT MINIMUM 2010: string (nullable = true)\n",
            " |-- THERMS SQFT 1ST QUARTILE 2010: string (nullable = true)\n",
            " |-- THERMS SQFT 2ND QUARTILE 2010: string (nullable = true)\n",
            " |-- THERMS SQFT 3RD QUARTILE 2010: string (nullable = true)\n",
            " |-- THERMS SQFT MAXIMUM 2010: string (nullable = true)\n",
            " |-- TOTAL POPULATION: string (nullable = true)\n",
            " |-- TOTAL UNITS: string (nullable = true)\n",
            " |-- AVERAGE STORIES: double (nullable = true)\n",
            " |-- AVERAGE BUILDING AGE: double (nullable = true)\n",
            " |-- AVERAGE HOUSESIZE: string (nullable = true)\n",
            " |-- OCCUPIED UNITS: string (nullable = true)\n",
            " |-- OCCUPIED UNITS PERCENTAGE: double (nullable = true)\n",
            " |-- RENTER-OCCUPIED HOUSING UNITS: string (nullable = true)\n",
            " |-- RENTER-OCCUPIED HOUSING PERCENTAGE: double (nullable = true)\n",
            " |-- OCCUPIED HOUSING UNITS: string (nullable = true)\n",
            "\n"
          ],
          "name": "stdout"
        }
      ]
    },
    {
      "cell_type": "markdown",
      "metadata": {
        "id": "bdA-qnZ7BRiR"
      },
      "source": [
        "**display the first 20 rows of the data frame**"
      ]
    },
    {
      "cell_type": "code",
      "metadata": {
        "id": "g2PaIeYVZiRv",
        "outputId": "e72d086a-7645-4f56-dbdc-cac75fa5e912",
        "colab": {
          "base_uri": "https://localhost:8080/",
          "height": 479
        }
      },
      "source": [
        "df.show()"
      ],
      "execution_count": null,
      "outputs": [
        {
          "output_type": "stream",
          "text": [
            "+-------------------+---------------+-------------+----------------+----------------+-----------------+--------------+--------------+------------+-------------+-------------+---------------+------------------+----------------+-----------------+-----------------+---------+--------------------+-----------------+------------------+-------------------+----------------+---------------+--------------+---------------+---------------+-----------------+--------------------+------------------+-------------------+-------------------+------------+------------+--------------+-----------------+-------------+---------------------------+----------------+---------------------+---------------------+---------------------+----------------+------------------+--------------------------------+---------------------+--------------------------+--------------------------+--------------------------+---------------------+---------------+-----------------------------+------------------+-----------------------+-----------------------+-----------------------+------------------+---------------------+-----------------------------------+------------------------+-----------------------------+-----------------------------+-----------------------------+------------------------+----------------+-----------+---------------+--------------------+-----------------+--------------+-------------------------+-----------------------------+----------------------------------+----------------------+\n",
            "|COMMUNITY AREA NAME|   CENSUS BLOCK|BUILDING TYPE|BUILDING_SUBTYPE|KWH JANUARY 2010|KWH FEBRUARY 2010|KWH MARCH 2010|KWH APRIL 2010|KWH MAY 2010|KWH JUNE 2010|KWH JULY 2010|KWH AUGUST 2010|KWH SEPTEMBER 2010|KWH OCTOBER 2010|KWH NOVEMBER 2010|KWH DECEMBER 2010|TOTAL KWH|ELECTRICITY ACCOUNTS|ZERO KWH ACCOUNTS|THERM JANUARY 2010|THERM FEBRUARY 2010|THERM MARCH 2010|TERM APRIL 2010|THERM MAY 2010|THERM JUNE 2010|THERM JULY 2010|THERM AUGUST 2010|THERM SEPTEMBER 2010|THERM OCTOBER 2010|THERM NOVEMBER 2010|THERM DECEMBER 2010|TOTAL THERMS|GAS ACCOUNTS|KWH TOTAL SQFT|THERMS TOTAL SQFT|KWH MEAN 2010|KWH STANDARD DEVIATION 2010|KWH MINIMUM 2010|KWH 1ST QUARTILE 2010|KWH 2ND QUARTILE 2010|KWH 3RD QUARTILE 2010|KWH MAXIMUM 2010|KWH SQFT MEAN 2010|KWH SQFT STANDARD DEVIATION 2010|KWH SQFT MINIMUM 2010|KWH SQFT 1ST QUARTILE 2010|KWH SQFT 2ND QUARTILE 2010|KWH SQFT 3RD QUARTILE 2010|KWH SQFT MAXIMUM 2010|THERM MEAN 2010|THERM STANDARD DEVIATION 2010|THERM MINIMUM 2010|THERM 1ST QUARTILE 2010|THERM 2ND QUARTILE 2010|THERM 3RD QUARTILE 2010|THERM MAXIMUM 2010|THERMS SQFT MEAN 2010|THERMS SQFT STANDARD DEVIATION 2010|THERMS SQFT MINIMUM 2010|THERMS SQFT 1ST QUARTILE 2010|THERMS SQFT 2ND QUARTILE 2010|THERMS SQFT 3RD QUARTILE 2010|THERMS SQFT MAXIMUM 2010|TOTAL POPULATION|TOTAL UNITS|AVERAGE STORIES|AVERAGE BUILDING AGE|AVERAGE HOUSESIZE|OCCUPIED UNITS|OCCUPIED UNITS PERCENTAGE|RENTER-OCCUPIED HOUSING UNITS|RENTER-OCCUPIED HOUSING PERCENTAGE|OCCUPIED HOUSING UNITS|\n",
            "+-------------------+---------------+-------------+----------------+----------------+-----------------+--------------+--------------+------------+-------------+-------------+---------------+------------------+----------------+-----------------+-----------------+---------+--------------------+-----------------+------------------+-------------------+----------------+---------------+--------------+---------------+---------------+-----------------+--------------------+------------------+-------------------+-------------------+------------+------------+--------------+-----------------+-------------+---------------------------+----------------+---------------------+---------------------+---------------------+----------------+------------------+--------------------------------+---------------------+--------------------------+--------------------------+--------------------------+---------------------+---------------+-----------------------------+------------------+-----------------------+-----------------------+-----------------------+------------------+---------------------+-----------------------------------+------------------------+-----------------------------+-----------------------------+-----------------------------+------------------------+----------------+-----------+---------------+--------------------+-----------------+--------------+-------------------------+-----------------------------+----------------------------------+----------------------+\n",
            "|     Archer Heights|170315704001006|  Residential|       Multi < 7|            null|             null|          null|          null|        null|         null|         null|           null|              null|            null|             null|             null|     null|                null|                0|             2,326|              2,131|           1,400|            620|           502|            224|            222|              187|                 197|               252|                744|              2,112|      10,917|          11|          null|           11,134|         null|                       null|            null|                 null|                 null|                 null|            null|              null|                            null|                 null|                      null|                      null|                      null|                 null|        1,819.5|                 547.64322328|             1,061|                  1,334|                1,864.5|                  2,306|             2,487|             1,855.67|                       490.89374275|                   1,382|                        1,382|                        1,779|                        2,162|                   2,650|              89|         24|            2.0|               71.33|             3.87|            23|                   0.9582|                            9|                             0.391|                    23|\n",
            "|            Ashburn|170317005014004|  Residential|        Multi 7+|           7,334|            7,741|         4,214|         4,284|       2,518|        4,273|        4,566|          2,787|             3,357|           5,540|           15,774|           19,676|   82,064|                   8|                3|              null|               null|            null|           null|          null|           null|           null|             null|                null|              null|               null|               null|        null|        null|        10,892|             null|    27,354.67|              22,082.794487|           8,886|                8,886|               21,363|               51,815|          51,815|            10,892|                            null|               10,892|                    10,892|                    10,892|                    10,892|               10,892|           null|                         null|              null|                   null|                   null|                   null|              null|                 null|                               null|                    null|                         null|                         null|                         null|                    null|             112|         67|            2.0|                41.0|             1.81|            62|                   0.9254|                           50|                            0.8059|                    62|\n",
            "|     Auburn Gresham|170317105001006|   Commercial|       Multi < 7|            null|             null|          null|          null|        null|         null|         null|           null|              null|            null|             null|             null|     null|                null|                7|             1,561|              1,388|           1,507|            701|           486|            380|             18|               16|                null|              null|               null|               null|       6,057|           4|          null|            7,347|         null|                       null|            null|                 null|                 null|                 null|            null|              null|                            null|                 null|                      null|                      null|                      null|                 null|        3,028.5|                4,150.0096988|                94|                     94|                3,028.5|                  5,963|             5,963|                7,347|                               null|                   7,347|                        7,347|                        7,347|                        7,347|                   7,347|             102|         48|            3.0|                86.0|                3|            34|                   0.7082|                           23|                            0.6759|                    34|\n",
            "|             Austin|170312503003003|   Commercial|       Multi < 7|            null|             null|          null|          null|        null|         null|         null|           null|              null|            null|             null|             null|     null|                null|                2|              null|               null|            null|           null|          null|           null|           null|             null|                null|              null|                  9|                391|         400| Less than 4|          null|            2,146|         null|                       null|            null|                 null|                 null|                 null|            null|              null|                            null|                 null|                      null|                      null|                      null|                 null|            400|                         null|               400|                    400|                    400|                    400|               400|                2,146|                               null|                   2,146|                        2,146|                        2,146|                        2,146|                   2,146|             121|         56|            2.0|                84.0|             2.95|            41|                   0.7321|                           32|                              0.78|                    41|\n",
            "|             Austin|170312504002008|   Commercial|       Multi < 7|            null|             null|          null|          null|        null|         null|         null|           null|              null|            null|             null|             null|     null|                null|                3|               310|                268|             163|             77|            57|             23|             19|                8|                  14|                10|               null|               null|         949| Less than 4|          null|            2,146|         null|                       null|            null|                 null|                 null|                 null|            null|              null|                            null|                 null|                      null|                      null|                      null|                 null|            949|                         null|               949|                    949|                    949|                    949|               949|                2,146|                               null|                   2,146|                        2,146|                        2,146|                        2,146|                   2,146|              62|         23|            2.0|                85.0|             3.26|            19|                   0.8261|                           11|                             0.579|                    19|\n",
            "|             Austin|170312517001044|   Commercial|      Commercial|               0|                0|             0|             0|           0|            0|            0|            819|               619|             416|              138|                2|    1,994|         Less than 4|                1|              null|               null|            null|           null|          null|           null|           null|             null|                null|              null|               null|               null|        null|        null|         1,512|             null|        1,994|                       null|           1,994|                1,994|                1,994|                1,994|           1,994|             1,512|                            null|                1,512|                     1,512|                     1,512|                     1,512|                1,512|           null|                         null|              null|                   null|                   null|                   null|              null|                 null|                               null|                    null|                         null|                         null|                         null|                    null|              54|         18|            2.0|               131.0|                3|            18|                      1.0|                           10|                             0.556|                    18|\n",
            "|             Austin|170312518003009|   Commercial|      Commercial|            null|             null|          null|          null|        null|         null|         null|           null|              null|            null|             null|             null|     null|                null|                0|             3,041|              2,680|           1,151|            373|           124|             26|             29|               25|                  49|               177|                670|              3,895|      12,240| Less than 4|          null|           69,800|         null|                       null|            null|                 null|                 null|                 null|            null|              null|                            null|                 null|                      null|                      null|                      null|                 null|          6,120|                3,505.8354211|             3,641|                  3,641|                  6,120|                  8,599|             8,599|               34,900|                      32,244.069222|                  12,100|                       12,100|                       34,900|                       57,700|                  57,700|               0|          0|            1.0|                54.0|                0|             0|                     null|                            0|                              null|                     0|\n",
            "|             Austin|170312520004000|   Commercial|       Multi < 7|           1,470|            1,325|           294|           391|         366|        2,204|        2,345|          2,032|               920|             586|              705|              785|   13,423|         Less than 4|                3|              null|               null|            null|           null|          null|           null|           null|             null|                null|              null|               null|               null|        null|        null|         1,988|             null|       13,423|                       null|          13,423|               13,423|               13,423|               13,423|          13,423|             1,988|                            null|                1,988|                     1,988|                     1,988|                     1,988|                1,988|           null|                         null|              null|                   null|                   null|                   null|              null|                 null|                               null|                    null|                         null|                         null|                         null|                    null|              64|         63|            2.0|               131.0|             1.02|            59|                   0.9365|                           59|                               1.0|                    59|\n",
            "|             Austin|170312521011000|  Residential|        Multi 7+|           2,461|            4,888|         2,893|         2,737|       2,350|        3,037|        3,874|          4,861|             5,180|           2,984|            2,635|            3,597|   41,497|                   6|                0|              null|               null|            null|           null|          null|           null|           null|             null|                null|              null|               null|               null|        null|        null|         4,500|             null|       41,497|                       null|          41,497|               41,497|               41,497|               41,497|          41,497|             4,500|                            null|                4,500|                     4,500|                     4,500|                     4,500|                4,500|           null|                         null|              null|                   null|                   null|                   null|              null|                 null|                               null|                    null|                         null|                         null|                         null|                    null|              79|         31|            3.0|                99.0|             2.93|            27|                    0.871|                           27|                               1.0|                    27|\n",
            "|             Austin|170312521011008|  Residential|        Multi 7+|               0|                0|             0|             0|           0|          511|          904|          1,818|             1,968|             738|              450|            2,207|    8,596|         Less than 4|                0|              null|               null|            null|           null|          null|           null|           null|             null|                null|              null|               null|               null|        null|        null|         4,500|             null|        8,596|                       null|           8,596|                8,596|                8,596|                8,596|           8,596|             4,500|                            null|                4,500|                     4,500|                     4,500|                     4,500|                4,500|           null|                         null|              null|                   null|                   null|                   null|              null|                 null|                               null|                    null|                         null|                         null|                         null|                    null|              84|         33|            3.0|                99.0|             3.82|            22|                   0.6667|                           16|                             0.727|                    22|\n",
            "|             Austin|170312521023012|  Residential|       Multi < 7|              96|              202|         1,837|         1,118|         669|          889|          812|          1,880|             1,743|             696|              684|              903|   11,529|                   5|                8|              null|               null|            null|           null|          null|           null|           null|             null|                null|              null|               null|               null|        null|        null|         5,672|             null|        3,843|              2,401.7645597|           1,344|                1,344|                4,051|                6,134|           6,134|             5,672|                            null|                5,672|                     5,672|                     5,672|                     5,672|                5,672|           null|                         null|              null|                   null|                   null|                   null|              null|                 null|                               null|                    null|                         null|                         null|                         null|                    null|               0|          0|            1.0|                 0.0|                0|             0|                     null|                            0|                              null|                     0|\n",
            "|             Austin|170312522025000|   Commercial|       Multi < 7|            null|             null|          null|          null|        null|         null|         null|           null|              null|            null|             null|             null|     null|                null|                1|               910|                738|             632|            448|           254|            113|             42|               29|                  33|                36|                166|                633|       4,034| Less than 4|          null|            5,166|         null|                       null|            null|                 null|                 null|                 null|            null|              null|                            null|                 null|                      null|                      null|                      null|                 null|          4,034|                         null|             4,034|                  4,034|                  4,034|                  4,034|             4,034|                5,166|                               null|                   5,166|                        5,166|                        5,166|                        5,166|                   5,166|               0|          0|            2.0|                87.0|                0|             0|                     null|                            0|                              null|                     0|\n",
            "|           Avondale|170312105012012|   Commercial|       Multi < 7|           6,113|            6,669|         5,851|         8,723|       8,025|        9,396|        8,373|          8,889|             9,586|           9,638|            8,655|           10,591|  100,509|                   4|                0|              null|               null|            null|           null|          null|           null|           null|             null|                null|              null|               null|               null|        null|        null|         4,190|             null|       33,503|              37,888.543295|           8,599|                8,599|               14,804|               77,106|          77,106|             4,190|                            null|                4,190|                     4,190|                     4,190|                     4,190|                4,190|           null|                         null|              null|                   null|                   null|                   null|              null|                 null|                               null|                    null|                         null|                         null|                         null|                    null|              53|         39|            1.0|                 0.0|             1.61|            33|                   0.8462|                           33|                               1.0|                    33|\n",
            "|           Avondale|170312105023000|   Commercial|       Multi < 7|            null|             null|          null|          null|        null|         null|         null|           null|              null|            null|             null|             null|     null|                null|                1|               535|                458|             481|            307|           194|            145|            119|              102|                  88|               109|                141|                249|       2,928|           4|          null|            3,967|         null|                       null|            null|                 null|                 null|                 null|            null|              null|                            null|                 null|                      null|                      null|                      null|                 null|          2,928|                         null|             2,928|                  2,928|                  2,928|                  2,928|             2,928|                3,967|                               null|                   3,967|                        3,967|                        3,967|                        3,967|                   3,967|             176|         61|            1.0|                 0.0|             4.09|            43|                   0.7049|                           33|                             0.767|                    43|\n",
            "|           Avondale|170312106013002|   Commercial|        Multi 7+|            null|             null|          null|          null|        null|         null|         null|           null|              null|            null|             null|             null|     null|                null|                5|              null|               null|            null|           null|          null|           null|           null|             null|                null|              null|               null|                115|         115|           4|          null|           10,907|         null|                       null|            null|                 null|                 null|                 null|            null|              null|                            null|                 null|                      null|                      null|                      null|                 null|            115|                         null|               115|                    115|                    115|                    115|               115|               10,907|                               null|                  10,907|                       10,907|                       10,907|                       10,907|                  10,907|               3|          9|            3.0|                77.0|                3|             1|                    0.111|                            1|                               1.0|                     1|\n",
            "|           Avondale|170312106013005|   Commercial|       Multi < 7|               0|                0|             0|             0|          22|           32|          138|             54|                21|              18|               20|                3|      308|                   4|                0|              null|               null|            null|           null|          null|           null|           null|             null|                null|              null|               null|               null|        null|        null|         3,507|             null|          308|                       null|             308|                  308|                  308|                  308|             308|             3,507|                            null|                3,507|                     3,507|                     3,507|                     3,507|                3,507|           null|                         null|              null|                   null|                   null|                   null|              null|                 null|                               null|                    null|                         null|                         null|                         null|                    null|             113|         42|            1.0|                 0.0|             3.05|            37|                   0.8809|                           23|                             0.622|                    37|\n",
            "|           Avondale|170312106023008|   Commercial|       Multi < 7|           1,593|            1,853|         1,626|         1,493|       1,922|        3,637|        3,605|          3,579|             2,585|           1,430|            1,696|            1,813|   26,832|                   4|                1|              null|               null|            null|           null|          null|           null|           null|             null|                null|              null|               null|               null|        null|        null|         3,556|             null|       13,416|               17,800.70611|             829|                  829|               13,416|               26,003|          26,003|             1,778|                    172.53405461|                1,656|                     1,656|                     1,778|                     1,900|                1,900|           null|                         null|              null|                   null|                   null|                   null|              null|                 null|                               null|                    null|                         null|                         null|                         null|                    null|             207|         78|            2.0|                96.5|             3.45|            60|                   0.7692|                           45|                              0.75|                    60|\n",
            "|           Avondale|170312107001003|   Commercial|       Multi < 7|             945|              698|           586|           934|       1,007|        1,419|        1,892|            772|               485|             369|            1,743|            2,880|   13,730|         Less than 4|                0|              null|               null|            null|           null|          null|           null|           null|             null|                null|              null|               null|               null|        null|        null|         3,000|             null|       13,730|                       null|          13,730|               13,730|               13,730|               13,730|          13,730|             3,000|                            null|                3,000|                     3,000|                     3,000|                     3,000|                3,000|           null|                         null|              null|                   null|                   null|                   null|              null|                 null|                               null|                    null|                         null|                         null|                         null|                    null|              58|         16|            2.0|               121.0|             3.87|            15|                   0.9375|                            9|                               0.6|                    15|\n",
            "|           Avondale|170312109001008|   Commercial|      Commercial|           4,006|            2,918|         3,124|         3,237|       3,736|        4,965|        5,382|          5,033|             3,393|           3,548|            4,041|            3,929|   47,312|         Less than 4|                1|              null|               null|            null|           null|          null|           null|           null|             null|                null|              null|               null|               null|        null|        null|        18,700|             null|       23,656|              6,622.7621126|          18,973|               18,973|               23,656|               28,339|          28,339|             9,350|                    494.97474683|                9,000|                     9,000|                     9,350|                     9,700|                9,700|           null|                         null|              null|                   null|                   null|                   null|              null|                 null|                               null|                    null|                         null|                         null|                         null|                    null|               2|          1|            1.0|                63.0|                2|             1|                      1.0|                            0|                               0.0|                     1|\n",
            "|           Avondale|170312109001038|  Residential|       Multi < 7|            null|             null|          null|          null|        null|         null|         null|           null|              null|            null|             null|             null|     null|                null|                4|               285|                285|             244|            129|            73|             46|             39|               27|                  39|                29|                 50|                144|       1,390| Less than 4|          null|            1,936|         null|                       null|            null|                 null|                 null|                 null|            null|              null|                            null|                 null|                      null|                      null|                      null|                 null|          1,390|                         null|             1,390|                  1,390|                  1,390|                  1,390|             1,390|                1,936|                               null|                   1,936|                        1,936|                        1,936|                        1,936|                   1,936|              33|         16|            2.0|               101.0|              2.2|            15|                   0.9375|                            2|                             0.133|                    15|\n",
            "+-------------------+---------------+-------------+----------------+----------------+-----------------+--------------+--------------+------------+-------------+-------------+---------------+------------------+----------------+-----------------+-----------------+---------+--------------------+-----------------+------------------+-------------------+----------------+---------------+--------------+---------------+---------------+-----------------+--------------------+------------------+-------------------+-------------------+------------+------------+--------------+-----------------+-------------+---------------------------+----------------+---------------------+---------------------+---------------------+----------------+------------------+--------------------------------+---------------------+--------------------------+--------------------------+--------------------------+---------------------+---------------+-----------------------------+------------------+-----------------------+-----------------------+-----------------------+------------------+---------------------+-----------------------------------+------------------------+-----------------------------+-----------------------------+-----------------------------+------------------------+----------------+-----------+---------------+--------------------+-----------------+--------------+-------------------------+-----------------------------+----------------------------------+----------------------+\n",
            "only showing top 20 rows\n",
            "\n"
          ],
          "name": "stdout"
        }
      ]
    },
    {
      "cell_type": "markdown",
      "metadata": {
        "id": "ZBpOvec_Bz5R"
      },
      "source": [
        "Fetching the distinct count of column values"
      ]
    },
    {
      "cell_type": "code",
      "metadata": {
        "id": "-suSg4sAZs52",
        "outputId": "bfdd00cd-4df1-4c67-ff0e-3e6f411728aa",
        "colab": {
          "base_uri": "https://localhost:8080/",
          "height": 34
        }
      },
      "source": [
        "df.select('BUILDING TYPE').distinct().count()"
      ],
      "execution_count": null,
      "outputs": [
        {
          "output_type": "execute_result",
          "data": {
            "text/plain": [
              "4"
            ]
          },
          "metadata": {
            "tags": []
          },
          "execution_count": 146
        }
      ]
    },
    {
      "cell_type": "code",
      "metadata": {
        "id": "rfzXE4smbomp",
        "outputId": "af3f732e-fe3a-4b8d-c0cc-122f093cc65a",
        "colab": {
          "base_uri": "https://localhost:8080/",
          "height": 34
        }
      },
      "source": [
        "df.select('COMMUNITY AREA NAME').distinct().count()"
      ],
      "execution_count": null,
      "outputs": [
        {
          "output_type": "execute_result",
          "data": {
            "text/plain": [
              "77"
            ]
          },
          "metadata": {
            "tags": []
          },
          "execution_count": 147
        }
      ]
    },
    {
      "cell_type": "markdown",
      "metadata": {
        "id": "ll3xuR67cjyd"
      },
      "source": [
        "**My dataset has two different types of energy classification. So Let's go ahead and create dataframes for differentiating the two energies.**\n"
      ]
    },
    {
      "cell_type": "code",
      "metadata": {
        "id": "l0eCR-_qc5cG",
        "outputId": "d39e9666-86c5-48e1-fa6f-45b8056f1957",
        "colab": {
          "base_uri": "https://localhost:8080/",
          "height": 54
        }
      },
      "source": [
        "#For Electrical Energy\n",
        "\n",
        "electrical_energy = df.select(df.columns[:19])\n",
        "display(electrical_energy)"
      ],
      "execution_count": null,
      "outputs": [
        {
          "output_type": "display_data",
          "data": {
            "text/plain": [
              "DataFrame[COMMUNITY AREA NAME: string, CENSUS BLOCK: bigint, BUILDING TYPE: string, BUILDING_SUBTYPE: string, KWH JANUARY 2010: string, KWH FEBRUARY 2010: string, KWH MARCH 2010: string, KWH APRIL 2010: string, KWH MAY 2010: string, KWH JUNE 2010: string, KWH JULY 2010: string, KWH AUGUST 2010: string, KWH SEPTEMBER 2010: string, KWH OCTOBER 2010: string, KWH NOVEMBER 2010: string, KWH DECEMBER 2010: string, TOTAL KWH: string, ELECTRICITY ACCOUNTS: string, ZERO KWH ACCOUNTS: string]"
            ]
          },
          "metadata": {
            "tags": []
          }
        }
      ]
    },
    {
      "cell_type": "code",
      "metadata": {
        "id": "EY4C3hB4dXlG",
        "outputId": "13bfaa17-cedf-460b-cb87-cbc2d4ba28ea",
        "colab": {
          "base_uri": "https://localhost:8080/",
          "height": 54
        }
      },
      "source": [
        "#For Thermal Energy\n",
        "\n",
        "thermal_energy = df.select(df.columns[19:33])\n",
        "display(thermal_energy)"
      ],
      "execution_count": null,
      "outputs": [
        {
          "output_type": "display_data",
          "data": {
            "text/plain": [
              "DataFrame[THERM JANUARY 2010: string, THERM FEBRUARY 2010: string, THERM MARCH 2010: string, TERM APRIL 2010: string, THERM MAY 2010: string, THERM JUNE 2010: string, THERM JULY 2010: string, THERM AUGUST 2010: string, THERM SEPTEMBER 2010: string, THERM OCTOBER 2010: string, THERM NOVEMBER 2010: string, THERM DECEMBER 2010: string, TOTAL THERMS: string, GAS ACCOUNTS: string]"
            ]
          },
          "metadata": {
            "tags": []
          }
        }
      ]
    },
    {
      "cell_type": "markdown",
      "metadata": {
        "id": "BTkt86PiDT_q"
      },
      "source": [
        "Dropping of a few columns from my newly created dataset.\n",
        "\n"
      ]
    },
    {
      "cell_type": "code",
      "metadata": {
        "id": "ZSc2iNwSBWav"
      },
      "source": [
        "#Drop I\n",
        "\n",
        "electrical_energy = electrical_energy.drop(\"CENSUS BLOCK\")\n"
      ],
      "execution_count": null,
      "outputs": []
    },
    {
      "cell_type": "code",
      "metadata": {
        "id": "gzl4D_9CBjPV",
        "outputId": "72f8e902-c397-4d42-f344-77c5e0a93910",
        "colab": {
          "base_uri": "https://localhost:8080/",
          "height": 479
        }
      },
      "source": [
        "electrical_energy.show()"
      ],
      "execution_count": null,
      "outputs": [
        {
          "output_type": "stream",
          "text": [
            "+-------------------+-------------+----------------+----------------+-----------------+--------------+--------------+------------+-------------+-------------+---------------+------------------+----------------+-----------------+-----------------+---------+--------------------+-----------------+\n",
            "|COMMUNITY AREA NAME|BUILDING TYPE|BUILDING_SUBTYPE|KWH JANUARY 2010|KWH FEBRUARY 2010|KWH MARCH 2010|KWH APRIL 2010|KWH MAY 2010|KWH JUNE 2010|KWH JULY 2010|KWH AUGUST 2010|KWH SEPTEMBER 2010|KWH OCTOBER 2010|KWH NOVEMBER 2010|KWH DECEMBER 2010|TOTAL KWH|ELECTRICITY ACCOUNTS|ZERO KWH ACCOUNTS|\n",
            "+-------------------+-------------+----------------+----------------+-----------------+--------------+--------------+------------+-------------+-------------+---------------+------------------+----------------+-----------------+-----------------+---------+--------------------+-----------------+\n",
            "|     Archer Heights|  Residential|       Multi < 7|            null|             null|          null|          null|        null|         null|         null|           null|              null|            null|             null|             null|     null|                null|                0|\n",
            "|            Ashburn|  Residential|        Multi 7+|           7,334|            7,741|         4,214|         4,284|       2,518|        4,273|        4,566|          2,787|             3,357|           5,540|           15,774|           19,676|   82,064|                   8|                3|\n",
            "|     Auburn Gresham|   Commercial|       Multi < 7|            null|             null|          null|          null|        null|         null|         null|           null|              null|            null|             null|             null|     null|                null|                7|\n",
            "|             Austin|   Commercial|       Multi < 7|            null|             null|          null|          null|        null|         null|         null|           null|              null|            null|             null|             null|     null|                null|                2|\n",
            "|             Austin|   Commercial|       Multi < 7|            null|             null|          null|          null|        null|         null|         null|           null|              null|            null|             null|             null|     null|                null|                3|\n",
            "|             Austin|   Commercial|      Commercial|               0|                0|             0|             0|           0|            0|            0|            819|               619|             416|              138|                2|    1,994|         Less than 4|                1|\n",
            "|             Austin|   Commercial|      Commercial|            null|             null|          null|          null|        null|         null|         null|           null|              null|            null|             null|             null|     null|                null|                0|\n",
            "|             Austin|   Commercial|       Multi < 7|           1,470|            1,325|           294|           391|         366|        2,204|        2,345|          2,032|               920|             586|              705|              785|   13,423|         Less than 4|                3|\n",
            "|             Austin|  Residential|        Multi 7+|           2,461|            4,888|         2,893|         2,737|       2,350|        3,037|        3,874|          4,861|             5,180|           2,984|            2,635|            3,597|   41,497|                   6|                0|\n",
            "|             Austin|  Residential|        Multi 7+|               0|                0|             0|             0|           0|          511|          904|          1,818|             1,968|             738|              450|            2,207|    8,596|         Less than 4|                0|\n",
            "|             Austin|  Residential|       Multi < 7|              96|              202|         1,837|         1,118|         669|          889|          812|          1,880|             1,743|             696|              684|              903|   11,529|                   5|                8|\n",
            "|             Austin|   Commercial|       Multi < 7|            null|             null|          null|          null|        null|         null|         null|           null|              null|            null|             null|             null|     null|                null|                1|\n",
            "|           Avondale|   Commercial|       Multi < 7|           6,113|            6,669|         5,851|         8,723|       8,025|        9,396|        8,373|          8,889|             9,586|           9,638|            8,655|           10,591|  100,509|                   4|                0|\n",
            "|           Avondale|   Commercial|       Multi < 7|            null|             null|          null|          null|        null|         null|         null|           null|              null|            null|             null|             null|     null|                null|                1|\n",
            "|           Avondale|   Commercial|        Multi 7+|            null|             null|          null|          null|        null|         null|         null|           null|              null|            null|             null|             null|     null|                null|                5|\n",
            "|           Avondale|   Commercial|       Multi < 7|               0|                0|             0|             0|          22|           32|          138|             54|                21|              18|               20|                3|      308|                   4|                0|\n",
            "|           Avondale|   Commercial|       Multi < 7|           1,593|            1,853|         1,626|         1,493|       1,922|        3,637|        3,605|          3,579|             2,585|           1,430|            1,696|            1,813|   26,832|                   4|                1|\n",
            "|           Avondale|   Commercial|       Multi < 7|             945|              698|           586|           934|       1,007|        1,419|        1,892|            772|               485|             369|            1,743|            2,880|   13,730|         Less than 4|                0|\n",
            "|           Avondale|   Commercial|      Commercial|           4,006|            2,918|         3,124|         3,237|       3,736|        4,965|        5,382|          5,033|             3,393|           3,548|            4,041|            3,929|   47,312|         Less than 4|                1|\n",
            "|           Avondale|  Residential|       Multi < 7|            null|             null|          null|          null|        null|         null|         null|           null|              null|            null|             null|             null|     null|                null|                4|\n",
            "+-------------------+-------------+----------------+----------------+-----------------+--------------+--------------+------------+-------------+-------------+---------------+------------------+----------------+-----------------+-----------------+---------+--------------------+-----------------+\n",
            "only showing top 20 rows\n",
            "\n"
          ],
          "name": "stdout"
        }
      ]
    },
    {
      "cell_type": "markdown",
      "metadata": {
        "id": "5DTR99akDnzt"
      },
      "source": [
        "We see that census block has been dropped and this was chosen to be dropped as it would not make any significant difference for my analysis."
      ]
    },
    {
      "cell_type": "code",
      "metadata": {
        "id": "caGbOiJgBnjO",
        "outputId": "51da4f31-061b-4193-93d2-de16a7ac3fde",
        "colab": {
          "base_uri": "https://localhost:8080/",
          "height": 496
        }
      },
      "source": [
        "#Drop II\n",
        "electrical_energy = electrical_energy.drop(\"BUILDING_SUBTYPE\")\n",
        "electrical_energy.show()\n",
        "display(electrical_energy)"
      ],
      "execution_count": null,
      "outputs": [
        {
          "output_type": "stream",
          "text": [
            "+-------------------+-------------+----------------+-----------------+--------------+--------------+------------+-------------+-------------+---------------+------------------+----------------+-----------------+-----------------+---------+--------------------+-----------------+\n",
            "|COMMUNITY AREA NAME|BUILDING TYPE|KWH JANUARY 2010|KWH FEBRUARY 2010|KWH MARCH 2010|KWH APRIL 2010|KWH MAY 2010|KWH JUNE 2010|KWH JULY 2010|KWH AUGUST 2010|KWH SEPTEMBER 2010|KWH OCTOBER 2010|KWH NOVEMBER 2010|KWH DECEMBER 2010|TOTAL KWH|ELECTRICITY ACCOUNTS|ZERO KWH ACCOUNTS|\n",
            "+-------------------+-------------+----------------+-----------------+--------------+--------------+------------+-------------+-------------+---------------+------------------+----------------+-----------------+-----------------+---------+--------------------+-----------------+\n",
            "|     Archer Heights|  Residential|            null|             null|          null|          null|        null|         null|         null|           null|              null|            null|             null|             null|     null|                null|                0|\n",
            "|            Ashburn|  Residential|           7,334|            7,741|         4,214|         4,284|       2,518|        4,273|        4,566|          2,787|             3,357|           5,540|           15,774|           19,676|   82,064|                   8|                3|\n",
            "|     Auburn Gresham|   Commercial|            null|             null|          null|          null|        null|         null|         null|           null|              null|            null|             null|             null|     null|                null|                7|\n",
            "|             Austin|   Commercial|            null|             null|          null|          null|        null|         null|         null|           null|              null|            null|             null|             null|     null|                null|                2|\n",
            "|             Austin|   Commercial|            null|             null|          null|          null|        null|         null|         null|           null|              null|            null|             null|             null|     null|                null|                3|\n",
            "|             Austin|   Commercial|               0|                0|             0|             0|           0|            0|            0|            819|               619|             416|              138|                2|    1,994|         Less than 4|                1|\n",
            "|             Austin|   Commercial|            null|             null|          null|          null|        null|         null|         null|           null|              null|            null|             null|             null|     null|                null|                0|\n",
            "|             Austin|   Commercial|           1,470|            1,325|           294|           391|         366|        2,204|        2,345|          2,032|               920|             586|              705|              785|   13,423|         Less than 4|                3|\n",
            "|             Austin|  Residential|           2,461|            4,888|         2,893|         2,737|       2,350|        3,037|        3,874|          4,861|             5,180|           2,984|            2,635|            3,597|   41,497|                   6|                0|\n",
            "|             Austin|  Residential|               0|                0|             0|             0|           0|          511|          904|          1,818|             1,968|             738|              450|            2,207|    8,596|         Less than 4|                0|\n",
            "|             Austin|  Residential|              96|              202|         1,837|         1,118|         669|          889|          812|          1,880|             1,743|             696|              684|              903|   11,529|                   5|                8|\n",
            "|             Austin|   Commercial|            null|             null|          null|          null|        null|         null|         null|           null|              null|            null|             null|             null|     null|                null|                1|\n",
            "|           Avondale|   Commercial|           6,113|            6,669|         5,851|         8,723|       8,025|        9,396|        8,373|          8,889|             9,586|           9,638|            8,655|           10,591|  100,509|                   4|                0|\n",
            "|           Avondale|   Commercial|            null|             null|          null|          null|        null|         null|         null|           null|              null|            null|             null|             null|     null|                null|                1|\n",
            "|           Avondale|   Commercial|            null|             null|          null|          null|        null|         null|         null|           null|              null|            null|             null|             null|     null|                null|                5|\n",
            "|           Avondale|   Commercial|               0|                0|             0|             0|          22|           32|          138|             54|                21|              18|               20|                3|      308|                   4|                0|\n",
            "|           Avondale|   Commercial|           1,593|            1,853|         1,626|         1,493|       1,922|        3,637|        3,605|          3,579|             2,585|           1,430|            1,696|            1,813|   26,832|                   4|                1|\n",
            "|           Avondale|   Commercial|             945|              698|           586|           934|       1,007|        1,419|        1,892|            772|               485|             369|            1,743|            2,880|   13,730|         Less than 4|                0|\n",
            "|           Avondale|   Commercial|           4,006|            2,918|         3,124|         3,237|       3,736|        4,965|        5,382|          5,033|             3,393|           3,548|            4,041|            3,929|   47,312|         Less than 4|                1|\n",
            "|           Avondale|  Residential|            null|             null|          null|          null|        null|         null|         null|           null|              null|            null|             null|             null|     null|                null|                4|\n",
            "+-------------------+-------------+----------------+-----------------+--------------+--------------+------------+-------------+-------------+---------------+------------------+----------------+-----------------+-----------------+---------+--------------------+-----------------+\n",
            "only showing top 20 rows\n",
            "\n"
          ],
          "name": "stdout"
        },
        {
          "output_type": "display_data",
          "data": {
            "text/plain": [
              "DataFrame[COMMUNITY AREA NAME: string, BUILDING TYPE: string, KWH JANUARY 2010: string, KWH FEBRUARY 2010: string, KWH MARCH 2010: string, KWH APRIL 2010: string, KWH MAY 2010: string, KWH JUNE 2010: string, KWH JULY 2010: string, KWH AUGUST 2010: string, KWH SEPTEMBER 2010: string, KWH OCTOBER 2010: string, KWH NOVEMBER 2010: string, KWH DECEMBER 2010: string, TOTAL KWH: string, ELECTRICITY ACCOUNTS: string, ZERO KWH ACCOUNTS: string]"
            ]
          },
          "metadata": {
            "tags": []
          }
        }
      ]
    },
    {
      "cell_type": "markdown",
      "metadata": {
        "id": "MOdxIKJKD8Pd"
      },
      "source": [
        "We see that the building subtype has been dropped. This was because, the type of the building was my initial criteria."
      ]
    },
    {
      "cell_type": "markdown",
      "metadata": {
        "id": "b6aaoov4Ea_x"
      },
      "source": [
        "# **Checking for the below conditions: **\n",
        "\n",
        "1.   IsNull\n",
        "2.   IsNaN\n",
        "\n",
        "\n",
        "\n",
        "\n",
        "\n"
      ]
    },
    {
      "cell_type": "markdown",
      "metadata": {
        "id": "9ocyYs00FF_E"
      },
      "source": [
        "**Creating Alias of the dataframes subset**"
      ]
    },
    {
      "cell_type": "code",
      "metadata": {
        "id": "CF5yyzuKCk5v"
      },
      "source": [
        "from pyspark.sql.functions import isnan, when, count, col"
      ],
      "execution_count": null,
      "outputs": []
    },
    {
      "cell_type": "code",
      "metadata": {
        "id": "JFXifrowCyJm",
        "outputId": "73ebe4d6-4e7e-4169-d866-e622f719d33e",
        "colab": {
          "base_uri": "https://localhost:8080/",
          "height": 139
        }
      },
      "source": [
        "electrical_energy.select([count(when(isnan(e) | col(e).isNull(), e)).alias(e) for e in electrical_energy.columns]).show()"
      ],
      "execution_count": null,
      "outputs": [
        {
          "output_type": "stream",
          "text": [
            "+-------------------+-------------+----------------+-----------------+--------------+--------------+------------+-------------+-------------+---------------+------------------+----------------+-----------------+-----------------+---------+--------------------+-----------------+\n",
            "|COMMUNITY AREA NAME|BUILDING TYPE|KWH JANUARY 2010|KWH FEBRUARY 2010|KWH MARCH 2010|KWH APRIL 2010|KWH MAY 2010|KWH JUNE 2010|KWH JULY 2010|KWH AUGUST 2010|KWH SEPTEMBER 2010|KWH OCTOBER 2010|KWH NOVEMBER 2010|KWH DECEMBER 2010|TOTAL KWH|ELECTRICITY ACCOUNTS|ZERO KWH ACCOUNTS|\n",
            "+-------------------+-------------+----------------+-----------------+--------------+--------------+------------+-------------+-------------+---------------+------------------+----------------+-----------------+-----------------+---------+--------------------+-----------------+\n",
            "|                  0|           77|             871|              871|           871|           871|         871|          871|          871|            871|               871|             871|              871|              871|      871|                 871|                0|\n",
            "+-------------------+-------------+----------------+-----------------+--------------+--------------+------------+-------------+-------------+---------------+------------------+----------------+-----------------+-----------------+---------+--------------------+-----------------+\n",
            "\n"
          ],
          "name": "stdout"
        }
      ]
    },
    {
      "cell_type": "code",
      "metadata": {
        "id": "Wiry9rTpDFmt"
      },
      "source": [
        "electrical_energy = electrical_energy.toDF('community_area_name',\n",
        " 'building_type',\n",
        " 'kwh_january_2010',\n",
        " 'kwh_february_2010',\n",
        " 'kwh_march_2010',\n",
        " 'kwh_april_2010',\n",
        " 'kwh_may_2010',\n",
        " 'kwh_june_2010',\n",
        " 'kwh_july_2010',\n",
        " 'kwh_august_2010',\n",
        " 'kwh_september_2010',\n",
        " 'kwh_october_2010',\n",
        " 'kwh_november_2010',\n",
        " 'kwh_december_2010',\n",
        " 'total_kwh_2010',\n",
        " 'electrical_accounts',\n",
        " 'zero_kwh_accounts')"
      ],
      "execution_count": null,
      "outputs": []
    },
    {
      "cell_type": "markdown",
      "metadata": {
        "id": "a8B5cPR3uzbc"
      },
      "source": [
        "Displaying the dataframe"
      ]
    },
    {
      "cell_type": "code",
      "metadata": {
        "id": "69PzMjhhENJn",
        "outputId": "4d808ffd-6594-48eb-f418-5da818c1c4a3",
        "colab": {
          "base_uri": "https://localhost:8080/",
          "height": 54
        }
      },
      "source": [
        "display(electrical_energy)"
      ],
      "execution_count": null,
      "outputs": [
        {
          "output_type": "display_data",
          "data": {
            "text/plain": [
              "DataFrame[community_area_name: string, building_type: string, kwh_january_2010: string, kwh_february_2010: string, kwh_march_2010: string, kwh_april_2010: string, kwh_may_2010: string, kwh_june_2010: string, kwh_july_2010: string, kwh_august_2010: string, kwh_september_2010: string, kwh_october_2010: string, kwh_november_2010: string, kwh_december_2010: string, total_kwh_2010: string, electrical_accounts: string, zero_kwh_accounts: string]"
            ]
          },
          "metadata": {
            "tags": []
          }
        }
      ]
    },
    {
      "cell_type": "markdown",
      "metadata": {
        "id": "6U6lzSXrvEYW"
      },
      "source": [
        "Isnull check on building type column."
      ]
    },
    {
      "cell_type": "code",
      "metadata": {
        "id": "1DqSVqWzEXV5"
      },
      "source": [
        "from pyspark.sql.functions import col\n",
        "\n",
        "electrical_energy = electrical_energy.where(col(\"building_type\").isNotNull())"
      ],
      "execution_count": null,
      "outputs": []
    },
    {
      "cell_type": "code",
      "metadata": {
        "id": "QipyHjSyFP1H",
        "outputId": "c324dbdd-bbb8-4d6f-fcc8-cfabb01de095",
        "colab": {
          "base_uri": "https://localhost:8080/",
          "height": 139
        }
      },
      "source": [
        "electrical_energy.select([count(when(isnan(e) | col(e).isNull(), e)).alias(e) for e in electrical_energy.columns]).show()"
      ],
      "execution_count": null,
      "outputs": [
        {
          "output_type": "stream",
          "text": [
            "+-------------------+-------------+----------------+-----------------+--------------+--------------+------------+-------------+-------------+---------------+------------------+----------------+-----------------+-----------------+--------------+-------------------+-----------------+\n",
            "|community_area_name|building_type|kwh_january_2010|kwh_february_2010|kwh_march_2010|kwh_april_2010|kwh_may_2010|kwh_june_2010|kwh_july_2010|kwh_august_2010|kwh_september_2010|kwh_october_2010|kwh_november_2010|kwh_december_2010|total_kwh_2010|electrical_accounts|zero_kwh_accounts|\n",
            "+-------------------+-------------+----------------+-----------------+--------------+--------------+------------+-------------+-------------+---------------+------------------+----------------+-----------------+-----------------+--------------+-------------------+-----------------+\n",
            "|                  0|            0|             871|              871|           871|           871|         871|          871|          871|            871|               871|             871|              871|              871|           871|                871|                0|\n",
            "+-------------------+-------------+----------------+-----------------+--------------+--------------+------------+-------------+-------------+---------------+------------------+----------------+-----------------+-----------------+--------------+-------------------+-----------------+\n",
            "\n"
          ],
          "name": "stdout"
        }
      ]
    },
    {
      "cell_type": "markdown",
      "metadata": {
        "id": "tuUGaSJVF04s"
      },
      "source": [
        "we can see there are several nan values in almost each of the columns, hence lets replace it with avg values."
      ]
    },
    {
      "cell_type": "markdown",
      "metadata": {
        "id": "kQPNGSN9vaDO"
      },
      "source": [
        "Below is a function called fillna with average values in pyspark. This replaces nan values with avg of the entries"
      ]
    },
    {
      "cell_type": "code",
      "metadata": {
        "id": "lJFhcPkfGC0A"
      },
      "source": [
        "import pyspark.sql.functions as fn\n",
        "\n",
        "def fillna_with_avg(dataframe, exclude=set()):\n",
        "    stats = dataframe.agg(*(\n",
        "        fn.avg(e).alias(e) for e in dataframe.columns if e not in exclude\n",
        "    ))\n",
        "    return dataframe.na.fill(stats.first().asDict())"
      ],
      "execution_count": null,
      "outputs": []
    },
    {
      "cell_type": "markdown",
      "metadata": {
        "id": "6j9NJSFVF00g"
      },
      "source": [
        "We apply this to columns given below to verify all the nan values are replaced with avg values"
      ]
    },
    {
      "cell_type": "code",
      "metadata": {
        "id": "jXItSW-TGhks"
      },
      "source": [
        "electrical_energy = fillna_with_avg(electrical_energy, ['community_area_name','building_type'])"
      ],
      "execution_count": null,
      "outputs": []
    },
    {
      "cell_type": "code",
      "metadata": {
        "id": "SPP11HzkG5yo",
        "outputId": "bd6c5885-6b3b-4ae6-a0e1-3f3cb347ff69",
        "colab": {
          "base_uri": "https://localhost:8080/",
          "height": 139
        }
      },
      "source": [
        "electrical_energy.select([count(when(isnan(e) | col(e).isNull(), e)).alias(e) for e in electrical_energy.columns]).show()"
      ],
      "execution_count": null,
      "outputs": [
        {
          "output_type": "stream",
          "text": [
            "+-------------------+-------------+----------------+-----------------+--------------+--------------+------------+-------------+-------------+---------------+------------------+----------------+-----------------+-----------------+--------------+-------------------+-----------------+\n",
            "|community_area_name|building_type|kwh_january_2010|kwh_february_2010|kwh_march_2010|kwh_april_2010|kwh_may_2010|kwh_june_2010|kwh_july_2010|kwh_august_2010|kwh_september_2010|kwh_october_2010|kwh_november_2010|kwh_december_2010|total_kwh_2010|electrical_accounts|zero_kwh_accounts|\n",
            "+-------------------+-------------+----------------+-----------------+--------------+--------------+------------+-------------+-------------+---------------+------------------+----------------+-----------------+-----------------+--------------+-------------------+-----------------+\n",
            "|                  0|            0|               0|                0|             0|             0|           0|            0|            0|              0|                 0|               0|                0|                0|             0|                  0|                0|\n",
            "+-------------------+-------------+----------------+-----------------+--------------+--------------+------------+-------------+-------------+---------------+------------------+----------------+-----------------+-----------------+--------------+-------------------+-----------------+\n",
            "\n"
          ],
          "name": "stdout"
        }
      ]
    },
    {
      "cell_type": "code",
      "metadata": {
        "id": "zCYZOZbmHmsD",
        "outputId": "c066aaa8-4841-4b3b-d5ba-1c5bad98ea26",
        "colab": {
          "base_uri": "https://localhost:8080/",
          "height": 224
        }
      },
      "source": [
        "electrical_energy.show(5)"
      ],
      "execution_count": null,
      "outputs": [
        {
          "output_type": "stream",
          "text": [
            "+-------------------+-------------+-----------------+-----------------+---------------+-----------------+-----------------+-----------------+----------------+-----------------+------------------+-----------------+-----------------+-----------------+-----------------+-------------------+-----------------+\n",
            "|community_area_name|building_type| kwh_january_2010|kwh_february_2010| kwh_march_2010|   kwh_april_2010|     kwh_may_2010|    kwh_june_2010|   kwh_july_2010|  kwh_august_2010|kwh_september_2010| kwh_october_2010|kwh_november_2010|kwh_december_2010|   total_kwh_2010|electrical_accounts|zero_kwh_accounts|\n",
            "+-------------------+-------------+-----------------+-----------------+---------------+-----------------+-----------------+-----------------+----------------+-----------------+------------------+-----------------+-----------------+-----------------+-----------------+-------------------+-----------------+\n",
            "|     Archer Heights|  Residential|422.3416870898885|499.3204854368932|520.52099609375|534.9991114621384|533.8998455200824|527.8898257448004|529.538517618469|557.3150897407489|  593.061733615222|605.6108997010057|628.5877443443883|625.3043354249858|504.9039548022599| 15.418432008252589|                0|\n",
            "|            Ashburn|  Residential|            7,334|            7,741|          4,214|            4,284|            2,518|            4,273|           4,566|            2,787|             3,357|            5,540|           15,774|           19,676|           82,064|                  8|                3|\n",
            "|     Auburn Gresham|   Commercial|422.3416870898885|499.3204854368932|520.52099609375|534.9991114621384|533.8998455200824|527.8898257448004|529.538517618469|557.3150897407489|  593.061733615222|605.6108997010057|628.5877443443883|625.3043354249858|504.9039548022599| 15.418432008252589|                7|\n",
            "|             Austin|   Commercial|422.3416870898885|499.3204854368932|520.52099609375|534.9991114621384|533.8998455200824|527.8898257448004|529.538517618469|557.3150897407489|  593.061733615222|605.6108997010057|628.5877443443883|625.3043354249858|504.9039548022599| 15.418432008252589|                2|\n",
            "|             Austin|   Commercial|422.3416870898885|499.3204854368932|520.52099609375|534.9991114621384|533.8998455200824|527.8898257448004|529.538517618469|557.3150897407489|  593.061733615222|605.6108997010057|628.5877443443883|625.3043354249858|504.9039548022599| 15.418432008252589|                3|\n",
            "+-------------------+-------------+-----------------+-----------------+---------------+-----------------+-----------------+-----------------+----------------+-----------------+------------------+-----------------+-----------------+-----------------+-----------------+-------------------+-----------------+\n",
            "only showing top 5 rows\n",
            "\n"
          ],
          "name": "stdout"
        }
      ]
    },
    {
      "cell_type": "markdown",
      "metadata": {
        "id": "1YLeMxIQse1U"
      },
      "source": [
        "Now for thermal energy subset dataframe\n"
      ]
    },
    {
      "cell_type": "code",
      "metadata": {
        "id": "lPeB3TEcshiA"
      },
      "source": [
        "from pyspark.sql.functions import isnan, when, count, col"
      ],
      "execution_count": null,
      "outputs": []
    },
    {
      "cell_type": "code",
      "metadata": {
        "id": "oqPftR0WsyHu",
        "outputId": "0275bdaf-25d1-4cd9-90d1-6585913c4bf0",
        "colab": {
          "base_uri": "https://localhost:8080/",
          "height": 139
        }
      },
      "source": [
        "thermal_energy.select([count(when(isnan(t) | col(t).isNull(), t)).alias(t) for t in thermal_energy.columns]).show()"
      ],
      "execution_count": null,
      "outputs": [
        {
          "output_type": "stream",
          "text": [
            "+------------------+-------------------+----------------+---------------+--------------+---------------+---------------+-----------------+--------------------+------------------+-------------------+-------------------+------------+------------+\n",
            "|THERM JANUARY 2010|THERM FEBRUARY 2010|THERM MARCH 2010|TERM APRIL 2010|THERM MAY 2010|THERM JUNE 2010|THERM JULY 2010|THERM AUGUST 2010|THERM SEPTEMBER 2010|THERM OCTOBER 2010|THERM NOVEMBER 2010|THERM DECEMBER 2010|TOTAL THERMS|GAS ACCOUNTS|\n",
            "+------------------+-------------------+----------------+---------------+--------------+---------------+---------------+-----------------+--------------------+------------------+-------------------+-------------------+------------+------------+\n",
            "|              2230|               4232|            1482|           1575|          1857|           1767|           1820|             1908|                2282|              1722|               1559|               1544|        1296|        1296|\n",
            "+------------------+-------------------+----------------+---------------+--------------+---------------+---------------+-----------------+--------------------+------------------+-------------------+-------------------+------------+------------+\n",
            "\n"
          ],
          "name": "stdout"
        }
      ]
    },
    {
      "cell_type": "markdown",
      "metadata": {
        "id": "_2nTbUZswGL4"
      },
      "source": [
        "Data cleaning by changing the column headers from upper case to lower case and wiht no spaces in between"
      ]
    },
    {
      "cell_type": "code",
      "metadata": {
        "id": "m8vb6-X6taNF"
      },
      "source": [
        "thermal_energy = thermal_energy.toDF('therm_january_2010',\n",
        " 'therm_february_2010',\n",
        " 'therm_march_2010',\n",
        " 'therm_april_2010',\n",
        " 'therm_may_2010',\n",
        " 'therm_june_2010',\n",
        " 'therm_july_2010',\n",
        " 'therm_august_2010',\n",
        " 'therm_september_2010',\n",
        " 'therm_october_2010',\n",
        " 'therm_november_2010',\n",
        " 'therm_december_2010',\n",
        " 'total_therms_2010',\n",
        " 'gas_accounts')"
      ],
      "execution_count": null,
      "outputs": []
    },
    {
      "cell_type": "code",
      "metadata": {
        "id": "TeUTKfWwgQnL",
        "outputId": "28934bb0-b59d-4914-b2ce-40a20ed32d00",
        "colab": {
          "base_uri": "https://localhost:8080/",
          "height": 479
        }
      },
      "source": [
        "thermal_energy.show()"
      ],
      "execution_count": null,
      "outputs": [
        {
          "output_type": "stream",
          "text": [
            "+------------------+-------------------+----------------+----------------+--------------+---------------+---------------+-----------------+--------------------+------------------+-------------------+-------------------+-----------------+------------+\n",
            "|therm_january_2010|therm_february_2010|therm_march_2010|therm_april_2010|therm_may_2010|therm_june_2010|therm_july_2010|therm_august_2010|therm_september_2010|therm_october_2010|therm_november_2010|therm_december_2010|total_therms_2010|gas_accounts|\n",
            "+------------------+-------------------+----------------+----------------+--------------+---------------+---------------+-----------------+--------------------+------------------+-------------------+-------------------+-----------------+------------+\n",
            "|             2,326|              2,131|           1,400|             620|           502|            224|            222|              187|                 197|               252|                744|              2,112|           10,917|          11|\n",
            "|              null|               null|            null|            null|          null|           null|           null|             null|                null|              null|               null|               null|             null|        null|\n",
            "|             1,561|              1,388|           1,507|             701|           486|            380|             18|               16|                null|              null|               null|               null|            6,057|           4|\n",
            "|              null|               null|            null|            null|          null|           null|           null|             null|                null|              null|                  9|                391|              400| Less than 4|\n",
            "|               310|                268|             163|              77|            57|             23|             19|                8|                  14|                10|               null|               null|              949| Less than 4|\n",
            "|              null|               null|            null|            null|          null|           null|           null|             null|                null|              null|               null|               null|             null|        null|\n",
            "|             3,041|              2,680|           1,151|             373|           124|             26|             29|               25|                  49|               177|                670|              3,895|           12,240| Less than 4|\n",
            "|              null|               null|            null|            null|          null|           null|           null|             null|                null|              null|               null|               null|             null|        null|\n",
            "|              null|               null|            null|            null|          null|           null|           null|             null|                null|              null|               null|               null|             null|        null|\n",
            "|              null|               null|            null|            null|          null|           null|           null|             null|                null|              null|               null|               null|             null|        null|\n",
            "|              null|               null|            null|            null|          null|           null|           null|             null|                null|              null|               null|               null|             null|        null|\n",
            "|               910|                738|             632|             448|           254|            113|             42|               29|                  33|                36|                166|                633|            4,034| Less than 4|\n",
            "|              null|               null|            null|            null|          null|           null|           null|             null|                null|              null|               null|               null|             null|        null|\n",
            "|               535|                458|             481|             307|           194|            145|            119|              102|                  88|               109|                141|                249|            2,928|           4|\n",
            "|              null|               null|            null|            null|          null|           null|           null|             null|                null|              null|               null|                115|              115|           4|\n",
            "|              null|               null|            null|            null|          null|           null|           null|             null|                null|              null|               null|               null|             null|        null|\n",
            "|              null|               null|            null|            null|          null|           null|           null|             null|                null|              null|               null|               null|             null|        null|\n",
            "|              null|               null|            null|            null|          null|           null|           null|             null|                null|              null|               null|               null|             null|        null|\n",
            "|              null|               null|            null|            null|          null|           null|           null|             null|                null|              null|               null|               null|             null|        null|\n",
            "|               285|                285|             244|             129|            73|             46|             39|               27|                  39|                29|                 50|                144|            1,390| Less than 4|\n",
            "+------------------+-------------------+----------------+----------------+--------------+---------------+---------------+-----------------+--------------------+------------------+-------------------+-------------------+-----------------+------------+\n",
            "only showing top 20 rows\n",
            "\n"
          ],
          "name": "stdout"
        }
      ]
    },
    {
      "cell_type": "markdown",
      "metadata": {
        "id": "q72hq5RxwTXj"
      },
      "source": [
        "Displaying the structure"
      ]
    },
    {
      "cell_type": "code",
      "metadata": {
        "id": "OtFMKW0Uv1Tl",
        "outputId": "83c5753f-c24d-4276-f85e-0dcb54156cfa",
        "colab": {
          "base_uri": "https://localhost:8080/",
          "height": 54
        }
      },
      "source": [
        "display(thermal_energy)"
      ],
      "execution_count": null,
      "outputs": [
        {
          "output_type": "display_data",
          "data": {
            "text/plain": [
              "DataFrame[therm_january_2010: string, therm_february_2010: string, therm_march_2010: string, therm_april_2010: string, therm_may_2010: string, therm_june_2010: string, therm_july_2010: string, therm_august_2010: string, therm_september_2010: string, therm_october_2010: string, therm_november_2010: string, therm_december_2010: string, total_therms_2010: string, gas_accounts: string]"
            ]
          },
          "metadata": {
            "tags": []
          }
        }
      ]
    },
    {
      "cell_type": "markdown",
      "metadata": {
        "id": "UeVElDdBwW84"
      },
      "source": [
        "The common functions from electrical energy subset to thermal energy subset"
      ]
    },
    {
      "cell_type": "code",
      "metadata": {
        "id": "nw6B_tu0v1zp"
      },
      "source": [
        "from pyspark.sql.functions import col\n",
        "\n",
        "thermal_energy = thermal_energy.where(col(\"total_therms_2010\").isNotNull())"
      ],
      "execution_count": null,
      "outputs": []
    },
    {
      "cell_type": "code",
      "metadata": {
        "id": "eL8aOKIrwMXx",
        "outputId": "74b49048-d161-43a2-dc63-620cd3f984d2",
        "colab": {
          "base_uri": "https://localhost:8080/",
          "height": 139
        }
      },
      "source": [
        "thermal_energy.select([count(when(isnan(t) | col(t).isNull(), t)).alias(t) for t in thermal_energy.columns]).show()"
      ],
      "execution_count": null,
      "outputs": [
        {
          "output_type": "stream",
          "text": [
            "+------------------+-------------------+----------------+----------------+--------------+---------------+---------------+-----------------+--------------------+------------------+-------------------+-------------------+-----------------+------------+\n",
            "|therm_january_2010|therm_february_2010|therm_march_2010|therm_april_2010|therm_may_2010|therm_june_2010|therm_july_2010|therm_august_2010|therm_september_2010|therm_october_2010|therm_november_2010|therm_december_2010|total_therms_2010|gas_accounts|\n",
            "+------------------+-------------------+----------------+----------------+--------------+---------------+---------------+-----------------+--------------------+------------------+-------------------+-------------------+-----------------+------------+\n",
            "|               934|               2936|             186|             279|           561|            471|            524|              612|                 986|               426|                263|                248|                0|           0|\n",
            "+------------------+-------------------+----------------+----------------+--------------+---------------+---------------+-----------------+--------------------+------------------+-------------------+-------------------+-----------------+------------+\n",
            "\n"
          ],
          "name": "stdout"
        }
      ]
    },
    {
      "cell_type": "markdown",
      "metadata": {
        "id": "Rubv23zowinB"
      },
      "source": [
        "The below function is filling all the na values with mean of the values."
      ]
    },
    {
      "cell_type": "code",
      "metadata": {
        "id": "QdjdZLoxwX_X"
      },
      "source": [
        "def fillna_with_mean(dataframe, exclude=set()):\n",
        "    stats = dataframe.agg(*(\n",
        "        fn.avg(t).alias(t) for t in dataframe.columns if t not in exclude\n",
        "    ))\n",
        "    return dataframe.na.fill(stats.first().asDict())"
      ],
      "execution_count": null,
      "outputs": []
    },
    {
      "cell_type": "code",
      "metadata": {
        "id": "kMYt3tAGwXce"
      },
      "source": [
        "thermal_energy = fillna_with_mean(thermal_energy) #,['gas_accounts']"
      ],
      "execution_count": null,
      "outputs": []
    },
    {
      "cell_type": "code",
      "metadata": {
        "id": "g5xDYRqpwXWc",
        "outputId": "98d15c87-8170-4cd6-f48a-7db25891c03d",
        "colab": {
          "base_uri": "https://localhost:8080/",
          "height": 139
        }
      },
      "source": [
        "thermal_energy.select([count(when(isnan(t) | col(t).isNull(), t)).alias(t) for t in thermal_energy.columns]).show()"
      ],
      "execution_count": null,
      "outputs": [
        {
          "output_type": "stream",
          "text": [
            "+------------------+-------------------+----------------+----------------+--------------+---------------+---------------+-----------------+--------------------+------------------+-------------------+-------------------+-----------------+------------+\n",
            "|therm_january_2010|therm_february_2010|therm_march_2010|therm_april_2010|therm_may_2010|therm_june_2010|therm_july_2010|therm_august_2010|therm_september_2010|therm_october_2010|therm_november_2010|therm_december_2010|total_therms_2010|gas_accounts|\n",
            "+------------------+-------------------+----------------+----------------+--------------+---------------+---------------+-----------------+--------------------+------------------+-------------------+-------------------+-----------------+------------+\n",
            "|                 0|                  0|               0|               0|             0|              0|              0|                0|                   0|                 0|                  0|                  0|                0|           0|\n",
            "+------------------+-------------------+----------------+----------------+--------------+---------------+---------------+-----------------+--------------------+------------------+-------------------+-------------------+-----------------+------------+\n",
            "\n"
          ],
          "name": "stdout"
        }
      ]
    },
    {
      "cell_type": "code",
      "metadata": {
        "id": "Qh-QDzuKxCnf",
        "outputId": "09e7d366-fce0-48a4-eb22-e37ccd969eed",
        "colab": {
          "base_uri": "https://localhost:8080/",
          "height": 224
        }
      },
      "source": [
        "thermal_energy.show(5)"
      ],
      "execution_count": null,
      "outputs": [
        {
          "output_type": "stream",
          "text": [
            "+------------------+-------------------+-----------------+------------------+-----------------+-----------------+-----------------+-----------------+--------------------+------------------+-------------------+-------------------+-----------------+------------+\n",
            "|therm_january_2010|therm_february_2010| therm_march_2010|  therm_april_2010|   therm_may_2010|  therm_june_2010|  therm_july_2010|therm_august_2010|therm_september_2010|therm_october_2010|therm_november_2010|therm_december_2010|total_therms_2010|gas_accounts|\n",
            "+------------------+-------------------+-----------------+------------------+-----------------+-----------------+-----------------+-----------------+--------------------+------------------+-------------------+-------------------+-----------------+------------+\n",
            "|             2,326|              2,131|            1,400|               620|              502|              224|              222|              187|                 197|               252|                744|              2,112|           10,917|          11|\n",
            "|             1,561|              1,388|            1,507|               701|              486|              380|               18|               16|   226.4303414052556| 304.7364708603145| 437.43937948023705|  548.3150665666604|            6,057|           4|\n",
            "| 586.1716299447584|   565.850200825932|547.2207491769731|457.36296315342884|406.5522955044383|292.9207597347167|238.4427112557513|221.7655266101966|   226.4303414052556| 304.7364708603145|                  9|                391|              400| Less than 4|\n",
            "|               310|                268|              163|                77|               57|               23|               19|                8|                  14|                10| 437.43937948023705|  548.3150665666604|              949| Less than 4|\n",
            "|             3,041|              2,680|            1,151|               373|              124|               26|               29|               25|                  49|               177|                670|              3,895|           12,240| Less than 4|\n",
            "+------------------+-------------------+-----------------+------------------+-----------------+-----------------+-----------------+-----------------+--------------------+------------------+-------------------+-------------------+-----------------+------------+\n",
            "only showing top 5 rows\n",
            "\n"
          ],
          "name": "stdout"
        }
      ]
    },
    {
      "cell_type": "markdown",
      "metadata": {
        "id": "AWEFhODwxQuu"
      },
      "source": [
        "# Analysis begins"
      ]
    },
    {
      "cell_type": "markdown",
      "metadata": {
        "id": "5UgYUUvTw0il"
      },
      "source": [
        "Checking for the max consumption of electrical energy in chicago 2010. Monthwise classification for the year 2010"
      ]
    },
    {
      "cell_type": "markdown",
      "metadata": {
        "id": "18WBNlEfxLCd"
      },
      "source": [
        "This can be obtained by using the MAX function of the PYSPARK by converting it to RDD(rdd function)"
      ]
    },
    {
      "cell_type": "code",
      "metadata": {
        "id": "s2c1RKkAxSlc",
        "outputId": "5a941ff3-9161-4e4d-fa1e-8a28f20e07fc",
        "colab": {
          "base_uri": "https://localhost:8080/",
          "height": 629
        }
      },
      "source": [
        "list_columns = electrical_energy.columns\n",
        "list_month = ['january','february','march','april','may','june','july','august','september','october','november','december']\n",
        "for i in range(len(list_month)):\n",
        "  print(\"The max usage of Electricity for {} is {} joules\".format(list_month[i], electrical_energy.select(list_columns[i+3]).rdd.max()[0]))\n",
        "  print(\"\\n\")\n"
      ],
      "execution_count": null,
      "outputs": [
        {
          "output_type": "stream",
          "text": [
            "The max usage of Electricity for january is 999 joules\n",
            "\n",
            "\n",
            "The max usage of Electricity for february is 999 joules\n",
            "\n",
            "\n",
            "The max usage of Electricity for march is 999 joules\n",
            "\n",
            "\n",
            "The max usage of Electricity for april is 999 joules\n",
            "\n",
            "\n",
            "The max usage of Electricity for may is 999 joules\n",
            "\n",
            "\n",
            "The max usage of Electricity for june is 999 joules\n",
            "\n",
            "\n",
            "The max usage of Electricity for july is 999 joules\n",
            "\n",
            "\n",
            "The max usage of Electricity for august is 999 joules\n",
            "\n",
            "\n",
            "The max usage of Electricity for september is 999 joules\n",
            "\n",
            "\n",
            "The max usage of Electricity for october is 999 joules\n",
            "\n",
            "\n",
            "The max usage of Electricity for november is 999 joules\n",
            "\n",
            "\n",
            "The max usage of Electricity for december is 998,728 joules\n",
            "\n",
            "\n"
          ],
          "name": "stdout"
        }
      ]
    },
    {
      "cell_type": "markdown",
      "metadata": {
        "id": "5C14S92MzZwO"
      },
      "source": [
        "From the obtained result, we can see that in December, Electric Energy Usage is Max in Chicago during 2010. This could be certainly due to the extreme weather conditions and demand for using heating conditions."
      ]
    },
    {
      "cell_type": "code",
      "metadata": {
        "id": "-F49e2Pezclc",
        "outputId": "4f2fe8a6-de43-460e-d60b-5cad58e74c1e",
        "colab": {
          "base_uri": "https://localhost:8080/",
          "height": 629
        }
      },
      "source": [
        "list_columns = thermal_energy.columns\n",
        "list_month = ['january','february','march','april','may','june','july','august','september','october','november','december']\n",
        "for i in range(len(list_month)):\n",
        "  print(\"The max usage of thermal for {} is {} joules\".format(list_month[i], thermal_energy.select(list_columns[i+1]).rdd.min()[0]))\n",
        "  print(\"\\n\")"
      ],
      "execution_count": null,
      "outputs": [
        {
          "output_type": "stream",
          "text": [
            "The max usage of thermal for january is 1 joules\n",
            "\n",
            "\n",
            "The max usage of thermal for february is 1 joules\n",
            "\n",
            "\n",
            "The max usage of thermal for march is 1 joules\n",
            "\n",
            "\n",
            "The max usage of thermal for april is 1 joules\n",
            "\n",
            "\n",
            "The max usage of thermal for may is 1 joules\n",
            "\n",
            "\n",
            "The max usage of thermal for june is 1 joules\n",
            "\n",
            "\n",
            "The max usage of thermal for july is 1 joules\n",
            "\n",
            "\n",
            "The max usage of thermal for august is 1 joules\n",
            "\n",
            "\n",
            "The max usage of thermal for september is 1 joules\n",
            "\n",
            "\n",
            "The max usage of thermal for october is 1 joules\n",
            "\n",
            "\n",
            "The max usage of thermal for november is 1 joules\n",
            "\n",
            "\n",
            "The max usage of thermal for december is 1,000 joules\n",
            "\n",
            "\n"
          ],
          "name": "stdout"
        }
      ]
    },
    {
      "cell_type": "markdown",
      "metadata": {
        "id": "AGVT_kZV1bX6"
      },
      "source": [
        "The thermal energy consumption is MAX for the DECEMEBER month in Chicago during 2010. This is when the energy usage is proportional to the season and weather conditons."
      ]
    },
    {
      "cell_type": "markdown",
      "metadata": {
        "id": "4FFzJ2N01sFu"
      },
      "source": [
        "Aggregate of the electrical energy in kwh in Chicago 2010"
      ]
    },
    {
      "cell_type": "code",
      "metadata": {
        "id": "YWeVgPRZ1wSc",
        "outputId": "5b513ad0-1ea5-4d7f-9c77-9b0c4722a826",
        "colab": {
          "base_uri": "https://localhost:8080/",
          "height": 34
        }
      },
      "source": [
        "electrical_energy.agg({\"total_kwh_2010\":\"sum\"}).collect()[0]"
      ],
      "execution_count": null,
      "outputs": [
        {
          "output_type": "execute_result",
          "data": {
            "text/plain": [
              "Row(sum(total_kwh_2010)=529139.3446327659)"
            ]
          },
          "metadata": {
            "tags": []
          },
          "execution_count": 176
        }
      ]
    },
    {
      "cell_type": "markdown",
      "metadata": {
        "id": "DTr2F4P84fqk"
      },
      "source": [
        "The total is 529139 KWH"
      ]
    },
    {
      "cell_type": "markdown",
      "metadata": {
        "id": "iZjssgPe4nXo"
      },
      "source": [
        "Aggregate of the thermal energy in joules in Chicago 2010"
      ]
    },
    {
      "cell_type": "code",
      "metadata": {
        "id": "jzVVCtDJ1egx",
        "outputId": "27e857f5-ae76-45f4-9f10-b0dab72fb28b",
        "colab": {
          "base_uri": "https://localhost:8080/",
          "height": 34
        }
      },
      "source": [
        "thermal_energy.agg({\"total_therms_2010\":\"sum\"}).collect()[0]"
      ],
      "execution_count": null,
      "outputs": [
        {
          "output_type": "execute_result",
          "data": {
            "text/plain": [
              "Row(sum(total_therms_2010)=480459.0)"
            ]
          },
          "metadata": {
            "tags": []
          },
          "execution_count": 177
        }
      ]
    },
    {
      "cell_type": "markdown",
      "metadata": {
        "id": "ZO4Wzb-n4xUZ"
      },
      "source": [
        "The total is 480459 joules."
      ]
    },
    {
      "cell_type": "markdown",
      "metadata": {
        "id": "c8GOh56b49N1"
      },
      "source": [
        "Which Community area in Chicago consumed most Electrical Energy in 2010"
      ]
    },
    {
      "cell_type": "code",
      "metadata": {
        "id": "od-NyEoS3CVE"
      },
      "source": [
        "from pyspark.sql.types import IntegerType\n",
        "electrical_energy = electrical_energy.withColumn(\"total_kwh_2010\", electrical_energy[\"total_kwh_2010\"].cast(IntegerType()))"
      ],
      "execution_count": null,
      "outputs": []
    },
    {
      "cell_type": "markdown",
      "metadata": {
        "id": "TCrKFBwD5DH-"
      },
      "source": [
        "We changed the datatype from string to int of the total kwh"
      ]
    },
    {
      "cell_type": "code",
      "metadata": {
        "id": "jCVcE6yq2Pd-",
        "outputId": "e3a17649-38cf-4a3b-9926-7e56511d40b2",
        "colab": {
          "base_uri": "https://localhost:8080/",
          "height": 459
        }
      },
      "source": [
        "from pyspark.sql.functions import desc\n",
        "electrical_energy.groupBy('community_area_name').sum('total_kwh_2010').orderBy(desc(\"SUM(total_kwh_2010)\")).show()"
      ],
      "execution_count": null,
      "outputs": [
        {
          "output_type": "stream",
          "text": [
            "+--------------------+-------------------+\n",
            "| community_area_name|sum(total_kwh_2010)|\n",
            "+--------------------+-------------------+\n",
            "|           West Town|              21663|\n",
            "|      West Englewood|              19732|\n",
            "|        Logan Square|              18287|\n",
            "|      Near West Side|              17640|\n",
            "|           Englewood|              16856|\n",
            "|     Lower West Side|              16368|\n",
            "|              Austin|              16007|\n",
            "|     Near North Side|              15624|\n",
            "|            New City|              15359|\n",
            "|      North Lawndale|              15027|\n",
            "|       Humboldt Park|              14367|\n",
            "|      Jefferson Park|              12096|\n",
            "|      South Lawndale|              12090|\n",
            "|         South Shore|              11909|\n",
            "|        Chicago Lawn|              11533|\n",
            "|      Belmont Cragin|              11329|\n",
            "|            Lakeview|              11088|\n",
            "|        Portage Park|              10691|\n",
            "|Greater Grand Cro...|              10438|\n",
            "|         Irving Park|              10140|\n",
            "+--------------------+-------------------+\n",
            "only showing top 20 rows\n",
            "\n"
          ],
          "name": "stdout"
        }
      ]
    },
    {
      "cell_type": "markdown",
      "metadata": {
        "id": "Gwmjly4Q5MFT"
      },
      "source": [
        "We can see from the results that West Town has the max usage of energy. This area is in the Loop county of chicago which has many high raised building , several malls and other commercial complexes."
      ]
    },
    {
      "cell_type": "code",
      "metadata": {
        "id": "SEPCJKsH9dQv",
        "outputId": "5add13fd-4adb-407d-8035-e6625055d440",
        "colab": {
          "base_uri": "https://localhost:8080/",
          "height": 459
        }
      },
      "source": [
        "from pyspark.sql.functions import asc\n",
        "electrical_energy.groupBy('community_area_name').sum('total_kwh_2010').orderBy(asc(\"SUM(total_kwh_2010)\")).show()"
      ],
      "execution_count": null,
      "outputs": [
        {
          "output_type": "stream",
          "text": [
            "+-------------------+-------------------+\n",
            "|community_area_name|sum(total_kwh_2010)|\n",
            "+-------------------+-------------------+\n",
            "|             O'Hare|               null|\n",
            "|        Forest Glen|               null|\n",
            "|            Oakland|                504|\n",
            "|          Hegewisch|                504|\n",
            "|            Pullman|                504|\n",
            "|      South Deering|                708|\n",
            "|        Avalon Park|               1008|\n",
            "|    Mount Greenwood|               1008|\n",
            "|            Kenwood|               1008|\n",
            "|           Burnside|               1087|\n",
            "|        Fuller Park|               1097|\n",
            "|            Ashburn|               1259|\n",
            "|    Near South Side|               1512|\n",
            "|        Edison Park|               2016|\n",
            "|         North Park|               2176|\n",
            "|          Montclare|               2385|\n",
            "|    Calumet Heights|               2520|\n",
            "|          West Lawn|               2520|\n",
            "|            Dunning|               2520|\n",
            "|               Loop|               2520|\n",
            "+-------------------+-------------------+\n",
            "only showing top 20 rows\n",
            "\n"
          ],
          "name": "stdout"
        }
      ]
    },
    {
      "cell_type": "markdown",
      "metadata": {
        "id": "ofVaJjqv9uQA"
      },
      "source": [
        "We can see that from results that Loop has most consumption of energy."
      ]
    },
    {
      "cell_type": "markdown",
      "metadata": {
        "id": "D-Zvshge51r2"
      },
      "source": [
        "Let's now do it for Thermal energy."
      ]
    },
    {
      "cell_type": "code",
      "metadata": {
        "id": "75PQJ7Jj4MDl"
      },
      "source": [
        "from pyspark.sql.types import IntegerType\n",
        "thermal_energy = thermal_energy.withColumn(\"total_therms_2010\", thermal_energy[\"total_therms_2010\"].cast(IntegerType()))"
      ],
      "execution_count": null,
      "outputs": []
    },
    {
      "cell_type": "code",
      "metadata": {
        "id": "KrLNcIik4THl",
        "outputId": "8185ced5-fc4f-4800-bb5d-80e1606eef86",
        "colab": {
          "base_uri": "https://localhost:8080/",
          "height": 459
        }
      },
      "source": [
        "from pyspark.sql.functions import desc\n",
        "thermal_energy.groupBy('gas_accounts').sum('total_therms_2010').orderBy(desc(\"SUM(total_therms_2010)\")).show()"
      ],
      "execution_count": null,
      "outputs": [
        {
          "output_type": "stream",
          "text": [
            "+------------+----------------------+\n",
            "|gas_accounts|sum(total_therms_2010)|\n",
            "+------------+----------------------+\n",
            "| Less than 4|                304920|\n",
            "|           4|                 37235|\n",
            "|           6|                 23543|\n",
            "|           5|                 22300|\n",
            "|           8|                 14079|\n",
            "|           7|                 13004|\n",
            "|           9|                 11293|\n",
            "|          11|                  9121|\n",
            "|          12|                  7518|\n",
            "|          13|                  6636|\n",
            "|          10|                  5937|\n",
            "|          14|                  3497|\n",
            "|          16|                  3491|\n",
            "|          15|                  3393|\n",
            "|          20|                  2600|\n",
            "|          22|                  1911|\n",
            "|          19|                  1667|\n",
            "|          26|                  1520|\n",
            "|          18|                  1502|\n",
            "|          17|                  1452|\n",
            "+------------+----------------------+\n",
            "only showing top 20 rows\n",
            "\n"
          ],
          "name": "stdout"
        }
      ]
    },
    {
      "cell_type": "markdown",
      "metadata": {
        "id": "KYrNReo659hW"
      },
      "source": [
        "Buildings having gas accounts less than 4 have most therms used and this type of gas accounts have been used by commercial units mainly. This could be used by the malls and other commercial units in chicago."
      ]
    },
    {
      "cell_type": "markdown",
      "metadata": {
        "id": "TMjUKj-O5jau"
      },
      "source": [
        "Now let's see which building type has most power consumed."
      ]
    },
    {
      "cell_type": "code",
      "metadata": {
        "id": "pdRsX9Co4ki7",
        "outputId": "a6085127-8540-4a4d-f889-7c238d6acc1f",
        "colab": {
          "base_uri": "https://localhost:8080/",
          "height": 153
        }
      },
      "source": [
        "electrical_energy.groupBy('building_type').sum('total_kwh_2010').orderBy(desc(\"SUM(total_kwh_2010)\")).show()"
      ],
      "execution_count": null,
      "outputs": [
        {
          "output_type": "stream",
          "text": [
            "+-------------+-------------------+\n",
            "|building_type|sum(total_kwh_2010)|\n",
            "+-------------+-------------------+\n",
            "|   Commercial|             355503|\n",
            "|  Residential|             164785|\n",
            "|   Industrial|               8064|\n",
            "+-------------+-------------------+\n",
            "\n"
          ],
          "name": "stdout"
        }
      ]
    },
    {
      "cell_type": "markdown",
      "metadata": {
        "id": "Kvyv-2Rz6eNc"
      },
      "source": [
        "We can see that the commercial building and complexes of the Chicago state consumbe more energy as compared to residential and indutrial units."
      ]
    },
    {
      "cell_type": "markdown",
      "metadata": {
        "id": "srVUni2W6xQ6"
      },
      "source": [
        "Now lets see the max crowd of chicago as per the community."
      ]
    },
    {
      "cell_type": "code",
      "metadata": {
        "id": "5FtQ_ExVtGfx",
        "outputId": "e1a0b35b-f0ca-4375-a723-bbc6e2df5350",
        "colab": {
          "base_uri": "https://localhost:8080/",
          "height": 34
        }
      },
      "source": [
        "chicago_total_energy = df.select('COMMUNITY AREA NAME','TOTAL POPULATION','TOTAL UNITS')\n",
        "display(chicago_total_energy)"
      ],
      "execution_count": null,
      "outputs": [
        {
          "output_type": "display_data",
          "data": {
            "text/plain": [
              "DataFrame[COMMUNITY AREA NAME: string, TOTAL POPULATION: string, TOTAL UNITS: string]"
            ]
          },
          "metadata": {
            "tags": []
          }
        }
      ]
    },
    {
      "cell_type": "code",
      "metadata": {
        "id": "UDrHPliptN2b"
      },
      "source": [
        "from pyspark.sql.types import IntegerType\n",
        "chicago_total_energy = chicago_total_energy.withColumn(\"TOTAL POPULATION\", chicago_total_energy[\"TOTAL POPULATION\"].cast(IntegerType()))"
      ],
      "execution_count": null,
      "outputs": []
    },
    {
      "cell_type": "code",
      "metadata": {
        "id": "1lhF5F0rtNn8",
        "outputId": "20f0e952-465a-4acf-b2a8-1cd284867cf2",
        "colab": {
          "base_uri": "https://localhost:8080/",
          "height": 459
        }
      },
      "source": [
        "from pyspark.sql.functions import desc\n",
        "chicago_total_energy.groupBy('COMMUNITY AREA NAME').sum('TOTAL POPULATION').orderBy(desc(\"SUM(TOTAL POPULATION)\")).show()"
      ],
      "execution_count": null,
      "outputs": [
        {
          "output_type": "stream",
          "text": [
            "+-------------------+---------------------+\n",
            "|COMMUNITY AREA NAME|sum(TOTAL POPULATION)|\n",
            "+-------------------+---------------------+\n",
            "|           Lakeview|               270475|\n",
            "|          West Town|               233660|\n",
            "|             Austin|               199894|\n",
            "|       Lincoln Park|               175958|\n",
            "|       Logan Square|               168840|\n",
            "|             Uptown|               168247|\n",
            "|         West Ridge|               163179|\n",
            "|     South Lawndale|               159528|\n",
            "|        Rogers Park|               155816|\n",
            "|     Belmont Cragin|               155374|\n",
            "|       Portage Park|               136365|\n",
            "|          Edgewater|               134250|\n",
            "|        Irving Park|               134043|\n",
            "|    Near North Side|               130986|\n",
            "|        South Shore|               130845|\n",
            "|        Albany Park|               125348|\n",
            "|      Humboldt Park|               121880|\n",
            "|       Chicago Lawn|               110069|\n",
            "|     Lincoln Square|               103016|\n",
            "|           New City|                93327|\n",
            "+-------------------+---------------------+\n",
            "only showing top 20 rows\n",
            "\n"
          ],
          "name": "stdout"
        }
      ]
    },
    {
      "cell_type": "markdown",
      "metadata": {
        "id": "jegeNLj87CMJ"
      },
      "source": [
        "We see that LakeView area of Chicago city has max population, its one of the 77 community areas of chicago and has many amenities. Hence, we see that this may lead to the high usage of enery in Chicago in 2010"
      ]
    },
    {
      "cell_type": "code",
      "metadata": {
        "id": "4LY8sM-GtNa-"
      },
      "source": [],
      "execution_count": null,
      "outputs": []
    },
    {
      "cell_type": "markdown",
      "metadata": {
        "id": "KVLcZQzP77Iy"
      },
      "source": [
        "# Now Lets see the Advantages and disadvantages between using PySpark and Pandas"
      ]
    },
    {
      "cell_type": "markdown",
      "metadata": {
        "id": "6mRvfXXeDOBR"
      },
      "source": [
        "# PySpark Over Pandas"
      ]
    },
    {
      "cell_type": "markdown",
      "metadata": {
        "id": "sXGT5k6x-dBQ"
      },
      "source": [
        "### 1. In PySpark, we can execute parallel computations on multiple cores, kernals and execute multiple processes parallely. This would inturn increase the effiency. Whereas in Pandas, this type of parallel computation is not that efficient. In Pandas, dataframes are single server, in-memory. This would limit the size of the server memory.The Processing would be with a single server power."
      ]
    },
    {
      "cell_type": "markdown",
      "metadata": {
        "id": "w1rPRXnW-cnz"
      },
      "source": [
        "### 2.PySpark is booming to become one of the best open source for data analysis procedures by providing platforms. For eg: this provides resilient distributed datasets a distributed collection of objects over pandas. Pandas has no rdd in them. Each dataset could be divided into logical partitions and could be used to compute different partitions of the cluster."
      ]
    },
    {
      "cell_type": "markdown",
      "metadata": {
        "id": "XBwfUpGZCdNH"
      },
      "source": [
        "### 3.PySpark has many big data analysis tools and libraries for data analyts, which could be handy for analysing the data and learn them. In Pandas, the library is not offered to build models and analyse them."
      ]
    },
    {
      "cell_type": "markdown",
      "metadata": {
        "id": "kSGuE5ocDGfl"
      },
      "source": [
        "# Pandas over PySpark"
      ]
    },
    {
      "cell_type": "markdown",
      "metadata": {
        "id": "cBtN6CbfDYc-"
      },
      "source": [
        "### 1.Pandas, a data analysis tool is  currently the most popular and mature open data source for data analysis tool. The libraries are highly optimised for performance."
      ]
    },
    {
      "cell_type": "markdown",
      "metadata": {
        "id": "RulnqoGTDUhy"
      },
      "source": [
        "### 2. Consider a complex where clause of sql in pyspark:In this case, Pandas was obviously fast in analysing the data and whereas, Spark struggled because of the complexity of the underlying data."
      ]
    },
    {
      "cell_type": "markdown",
      "metadata": {
        "id": "KV-lfRpUFAJO"
      },
      "source": [
        "### 3. Joining the dataset (subset of the dataframe) would be another taxing task for the spark. This is common on a string column which would degrade the performance in spark"
      ]
    },
    {
      "cell_type": "markdown",
      "metadata": {
        "id": "y5FeebagGaug"
      },
      "source": [
        "### 4.PySpark has no functions to determine the shape of the dataset."
      ]
    },
    {
      "cell_type": "markdown",
      "metadata": {
        "id": "Uj0QeljtGnNo"
      },
      "source": [
        "### 5. PySpark is a framework for only large datasets on the other hand, pandas can process large data as well as smaller ones."
      ]
    }
  ]
}